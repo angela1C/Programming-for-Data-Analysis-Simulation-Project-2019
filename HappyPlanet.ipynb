{
 "cells": [
  {
   "cell_type": "markdown",
   "metadata": {},
   "source": [
    "# The Happy Planet Index\n",
    "This is the data for the Happy Planet Index 2016.\n",
    "\n",
    "There are some similarities with the World Happiness Report."
   ]
  },
  {
   "cell_type": "code",
   "execution_count": 5,
   "metadata": {},
   "outputs": [
    {
     "name": "stdout",
     "output_type": "stream",
     "text": [
      "NumPy version 1.16.2 pandas version  0.24.2 seaborn version 0.9.0\n"
     ]
    }
   ],
   "source": [
    "# import libraries using common alias names\n",
    "import numpy as np\n",
    "import pandas as pd\n",
    "import seaborn as sns\n",
    "import matplotlib.pyplot as plt\n",
    "\n",
    "# check what version of packages are installed.\n",
    "print(\"NumPy version\",np.__version__, \"pandas version \",pd.__version__, \"seaborn version\",sns.__version__  )  # '1.16.2'\n",
    "\n",
    "# set print options with floating point precision if 4, summarise long arrays using threshold of 5, suppress small results\n",
    "np.set_printoptions(precision=4, threshold=5, suppress=True)  # set floating point precision to 4\n",
    "pd.options.display.max_rows=8 # set options to display max number of rows"
   ]
  },
  {
   "cell_type": "code",
   "execution_count": 57,
   "metadata": {},
   "outputs": [
    {
     "name": "stdout",
     "output_type": "stream",
     "text": [
      "2015.csv\n",
      "Chapter2OnlineData2019.textClipping\n",
      "HappyPlanet.ipynb\n",
      "HappyPlanet16.csv\n",
      "LICENSE\n",
      "Programming_for_Data_Analysis_Project2019.pdf\n",
      "README.md\n",
      "Simulation.ipynb\n",
      "WHR.ipynb\n",
      "\u001b[34mdata\u001b[m\u001b[m\n",
      "\u001b[34metc\u001b[m\u001b[m\n",
      "\u001b[34mimages\u001b[m\u001b[m\n",
      "\u001b[34mreports\u001b[m\u001b[m\n",
      "whr_l16.ipynb\n",
      "worldhappiness.ipynb\n",
      ",HPI Rank,Country,Region,\"Average Life \n",
      "Expectancy\",\"Average Wellbeing\n",
      "(0-10)\",Happy Life Years,\"Footprint\n",
      "(gha/capita)\",Inequality of Outcomes\n",
      "0,110,Afghanistan,Middle East and North Africa,59.668,3.8,12.39602380874025,0.79,0.426557441321005\n",
      "1,13,Albania,Post-communist,77.347,5.5,34.414736010872105,2.21,0.16513371734395715\n",
      "2,30,Algeria,Middle East and North Africa,74.313,5.6,30.469461311230717,2.12,0.2448617478895881\n",
      "3,19,Argentina,Americas,75.927,6.5,40.16667387457994,3.14,0.1642383010777108\n",
      "4,73,Armenia,Post-communist,74.446,4.3,24.01876006070231,2.23,0.21664810329631143\n",
      "5,105,Australia,Asia Pacific,82.052,7.2,53.06949770952637,9.31,0.08067824767105994\n"
     ]
    }
   ],
   "source": [
    "!ls\n",
    "! head HappyPlanet16.csv"
   ]
  },
  {
   "cell_type": "markdown",
   "metadata": {},
   "source": [
    "# Read in the selected rows and columns from the excel sheet\n",
    "hpi = pd.read_excel('data/hpi-data-2016.xlsx', sheet_name='Complete HPI data', header=5, nrows=140, usecols='B:O')\n",
    "hpi.head()"
   ]
  },
  {
   "cell_type": "code",
   "execution_count": 105,
   "metadata": {},
   "outputs": [
    {
     "data": {
      "text/plain": [
       "Index(['HPI Rank', 'Country', 'Region', 'Average Life \\nExpectancy',\n",
       "       'Average Wellbeing\\n(0-10)', 'Happy Life Years',\n",
       "       'Footprint\\n(gha/capita)', 'Inequality of Outcomes',\n",
       "       'Inequality-adjusted Life Expectancy', 'Inequality-adjusted Wellbeing',\n",
       "       'Happy Planet Index', 'GDP/capita\\n($PPP)', 'Population', 'GINI index'],\n",
       "      dtype='object')"
      ]
     },
     "execution_count": 105,
     "metadata": {},
     "output_type": "execute_result"
    }
   ],
   "source": [
    "hpi.columns"
   ]
  },
  {
   "cell_type": "code",
   "execution_count": 103,
   "metadata": {},
   "outputs": [],
   "source": [
    "# write to a csv file\n",
    "hpi.to_csv('HappyPlanet16.csv')"
   ]
  },
  {
   "cell_type": "markdown",
   "metadata": {},
   "source": [
    "!ls"
   ]
  },
  {
   "cell_type": "markdown",
   "metadata": {},
   "source": [
    "### Add column names:\n",
    "The columns names need to be tidied up as they have spaces and line breaks included "
   ]
  },
  {
   "cell_type": "code",
   "execution_count": 106,
   "metadata": {},
   "outputs": [],
   "source": [
    "hpi_names=('HPI_Rank','Country','Region','Average_Life_Expectancy','Average_Wellbeing','Happy_Life_Years','Footprint','Inequality_of_Outcomes', 'IA_LifeExpectancy','IA_Wellbeing','HPI_Index','GDPpercapita','Population','GINI_Index')"
   ]
  },
  {
   "cell_type": "code",
   "execution_count": 107,
   "metadata": {},
   "outputs": [
    {
     "data": {
      "text/html": [
       "<div>\n",
       "<style scoped>\n",
       "    .dataframe tbody tr th:only-of-type {\n",
       "        vertical-align: middle;\n",
       "    }\n",
       "\n",
       "    .dataframe tbody tr th {\n",
       "        vertical-align: top;\n",
       "    }\n",
       "\n",
       "    .dataframe thead th {\n",
       "        text-align: right;\n",
       "    }\n",
       "</style>\n",
       "<table border=\"1\" class=\"dataframe\">\n",
       "  <thead>\n",
       "    <tr style=\"text-align: right;\">\n",
       "      <th></th>\n",
       "      <th>HPI_Rank</th>\n",
       "      <th>Country</th>\n",
       "      <th>Region</th>\n",
       "      <th>Average_Life_Expectancy</th>\n",
       "      <th>Average_Wellbeing</th>\n",
       "      <th>Happy_Life_Years</th>\n",
       "      <th>Footprint</th>\n",
       "      <th>Inequality_of_Outcomes</th>\n",
       "      <th>IA_LifeExpectancy</th>\n",
       "      <th>IA_Wellbeing</th>\n",
       "      <th>HPI_Index</th>\n",
       "      <th>GDPpercapita</th>\n",
       "      <th>Population</th>\n",
       "      <th>GINI_Index</th>\n",
       "    </tr>\n",
       "  </thead>\n",
       "  <tbody>\n",
       "    <tr>\n",
       "      <th>0</th>\n",
       "      <td>110</td>\n",
       "      <td>Afghanistan</td>\n",
       "      <td>Middle East and North Africa</td>\n",
       "      <td>59.668</td>\n",
       "      <td>3.8</td>\n",
       "      <td>12.396024</td>\n",
       "      <td>0.79</td>\n",
       "      <td>0.426557</td>\n",
       "      <td>38.348818</td>\n",
       "      <td>3.390494</td>\n",
       "      <td>20.225350</td>\n",
       "      <td>690.842629</td>\n",
       "      <td>29726803</td>\n",
       "      <td>Data unavailable</td>\n",
       "    </tr>\n",
       "    <tr>\n",
       "      <th>1</th>\n",
       "      <td>13</td>\n",
       "      <td>Albania</td>\n",
       "      <td>Post-communist</td>\n",
       "      <td>77.347</td>\n",
       "      <td>5.5</td>\n",
       "      <td>34.414736</td>\n",
       "      <td>2.21</td>\n",
       "      <td>0.165134</td>\n",
       "      <td>69.671159</td>\n",
       "      <td>5.097650</td>\n",
       "      <td>36.766874</td>\n",
       "      <td>4247.485437</td>\n",
       "      <td>2900489</td>\n",
       "      <td>28.96</td>\n",
       "    </tr>\n",
       "    <tr>\n",
       "      <th>2</th>\n",
       "      <td>30</td>\n",
       "      <td>Algeria</td>\n",
       "      <td>Middle East and North Africa</td>\n",
       "      <td>74.313</td>\n",
       "      <td>5.6</td>\n",
       "      <td>30.469461</td>\n",
       "      <td>2.12</td>\n",
       "      <td>0.244862</td>\n",
       "      <td>60.474545</td>\n",
       "      <td>5.196449</td>\n",
       "      <td>33.300543</td>\n",
       "      <td>5583.616160</td>\n",
       "      <td>37439427</td>\n",
       "      <td>Data unavailable</td>\n",
       "    </tr>\n",
       "    <tr>\n",
       "      <th>3</th>\n",
       "      <td>19</td>\n",
       "      <td>Argentina</td>\n",
       "      <td>Americas</td>\n",
       "      <td>75.927</td>\n",
       "      <td>6.5</td>\n",
       "      <td>40.166674</td>\n",
       "      <td>3.14</td>\n",
       "      <td>0.164238</td>\n",
       "      <td>68.349583</td>\n",
       "      <td>6.034707</td>\n",
       "      <td>35.190244</td>\n",
       "      <td>14357.411589</td>\n",
       "      <td>42095224</td>\n",
       "      <td>42.49</td>\n",
       "    </tr>\n",
       "    <tr>\n",
       "      <th>4</th>\n",
       "      <td>73</td>\n",
       "      <td>Armenia</td>\n",
       "      <td>Post-communist</td>\n",
       "      <td>74.446</td>\n",
       "      <td>4.3</td>\n",
       "      <td>24.018760</td>\n",
       "      <td>2.23</td>\n",
       "      <td>0.216648</td>\n",
       "      <td>66.921682</td>\n",
       "      <td>3.747140</td>\n",
       "      <td>25.666417</td>\n",
       "      <td>3565.517575</td>\n",
       "      <td>2978339</td>\n",
       "      <td>30.48</td>\n",
       "    </tr>\n",
       "  </tbody>\n",
       "</table>\n",
       "</div>"
      ],
      "text/plain": [
       "   HPI_Rank      Country                        Region  \\\n",
       "0       110  Afghanistan  Middle East and North Africa   \n",
       "1        13      Albania                Post-communist   \n",
       "2        30      Algeria  Middle East and North Africa   \n",
       "3        19    Argentina                      Americas   \n",
       "4        73      Armenia                Post-communist   \n",
       "\n",
       "   Average_Life_Expectancy  Average_Wellbeing  Happy_Life_Years  Footprint  \\\n",
       "0                   59.668                3.8         12.396024       0.79   \n",
       "1                   77.347                5.5         34.414736       2.21   \n",
       "2                   74.313                5.6         30.469461       2.12   \n",
       "3                   75.927                6.5         40.166674       3.14   \n",
       "4                   74.446                4.3         24.018760       2.23   \n",
       "\n",
       "   Inequality_of_Outcomes  IA_LifeExpectancy  IA_Wellbeing  HPI_Index  \\\n",
       "0                0.426557          38.348818      3.390494  20.225350   \n",
       "1                0.165134          69.671159      5.097650  36.766874   \n",
       "2                0.244862          60.474545      5.196449  33.300543   \n",
       "3                0.164238          68.349583      6.034707  35.190244   \n",
       "4                0.216648          66.921682      3.747140  25.666417   \n",
       "\n",
       "   GDPpercapita  Population        GINI_Index  \n",
       "0    690.842629    29726803  Data unavailable  \n",
       "1   4247.485437     2900489             28.96  \n",
       "2   5583.616160    37439427  Data unavailable  \n",
       "3  14357.411589    42095224             42.49  \n",
       "4   3565.517575     2978339             30.48  "
      ]
     },
     "execution_count": 107,
     "metadata": {},
     "output_type": "execute_result"
    }
   ],
   "source": [
    "# read in the csv file:\n",
    "hpi = pd.read_csv('HappyPlanet16.csv', index_col=0, names=hpi_names, header=0)\n",
    "hpi.head()"
   ]
  },
  {
   "cell_type": "code",
   "execution_count": 108,
   "metadata": {},
   "outputs": [
    {
     "data": {
      "text/plain": [
       "Index(['HPI_Rank', 'Country', 'Region', 'Average_Life_Expectancy',\n",
       "       'Average_Wellbeing', 'Happy_Life_Years', 'Footprint',\n",
       "       'Inequality_of_Outcomes', 'IA_LifeExpectancy', 'IA_Wellbeing',\n",
       "       'HPI_Index', 'GDPpercapita', 'Population', 'GINI_Index'],\n",
       "      dtype='object')"
      ]
     },
     "execution_count": 108,
     "metadata": {},
     "output_type": "execute_result"
    }
   ],
   "source": [
    "hpi.columns"
   ]
  },
  {
   "cell_type": "code",
   "execution_count": 109,
   "metadata": {},
   "outputs": [],
   "source": [
    "hpi_names=('HPI_Rank','Country','Region','Average_Life_Expectancy','Average_Wellbeing','Happy_Life_Years','Footprint','Inequality_of_Outcomes')"
   ]
  },
  {
   "cell_type": "code",
   "execution_count": 110,
   "metadata": {},
   "outputs": [
    {
     "data": {
      "text/html": [
       "<div>\n",
       "<style scoped>\n",
       "    .dataframe tbody tr th:only-of-type {\n",
       "        vertical-align: middle;\n",
       "    }\n",
       "\n",
       "    .dataframe tbody tr th {\n",
       "        vertical-align: top;\n",
       "    }\n",
       "\n",
       "    .dataframe thead th {\n",
       "        text-align: right;\n",
       "    }\n",
       "</style>\n",
       "<table border=\"1\" class=\"dataframe\">\n",
       "  <thead>\n",
       "    <tr style=\"text-align: right;\">\n",
       "      <th></th>\n",
       "      <th>HPI_Rank</th>\n",
       "      <th>Country</th>\n",
       "      <th>Region</th>\n",
       "      <th>Average_Life_Expectancy</th>\n",
       "      <th>Average_Wellbeing</th>\n",
       "      <th>Happy_Life_Years</th>\n",
       "      <th>Footprint</th>\n",
       "      <th>Inequality_of_Outcomes</th>\n",
       "      <th>IA_LifeExpectancy</th>\n",
       "      <th>IA_Wellbeing</th>\n",
       "      <th>HPI_Index</th>\n",
       "      <th>GDPpercapita</th>\n",
       "      <th>Population</th>\n",
       "      <th>GINI_Index</th>\n",
       "    </tr>\n",
       "  </thead>\n",
       "  <tbody>\n",
       "    <tr>\n",
       "      <th>135</th>\n",
       "      <td>29</td>\n",
       "      <td>Venezuela</td>\n",
       "      <td>Americas</td>\n",
       "      <td>73.885</td>\n",
       "      <td>7.1</td>\n",
       "      <td>41.494509</td>\n",
       "      <td>3.57</td>\n",
       "      <td>0.189280</td>\n",
       "      <td>65.453733</td>\n",
       "      <td>6.497572</td>\n",
       "      <td>33.569960</td>\n",
       "      <td>12771.595036</td>\n",
       "      <td>29854238</td>\n",
       "      <td>Data unavailable</td>\n",
       "    </tr>\n",
       "    <tr>\n",
       "      <th>136</th>\n",
       "      <td>5</td>\n",
       "      <td>Vietnam</td>\n",
       "      <td>Asia Pacific</td>\n",
       "      <td>75.477</td>\n",
       "      <td>5.5</td>\n",
       "      <td>32.770246</td>\n",
       "      <td>1.65</td>\n",
       "      <td>0.185921</td>\n",
       "      <td>64.794265</td>\n",
       "      <td>5.215639</td>\n",
       "      <td>40.307589</td>\n",
       "      <td>1754.547974</td>\n",
       "      <td>88809200</td>\n",
       "      <td>38.7</td>\n",
       "    </tr>\n",
       "    <tr>\n",
       "      <th>137</th>\n",
       "      <td>94</td>\n",
       "      <td>Yemen</td>\n",
       "      <td>Middle East and North Africa</td>\n",
       "      <td>63.340</td>\n",
       "      <td>4.1</td>\n",
       "      <td>15.204282</td>\n",
       "      <td>1.03</td>\n",
       "      <td>0.387313</td>\n",
       "      <td>44.721219</td>\n",
       "      <td>3.557846</td>\n",
       "      <td>22.754269</td>\n",
       "      <td>1289.034078</td>\n",
       "      <td>24882792</td>\n",
       "      <td>Data unavailable</td>\n",
       "    </tr>\n",
       "    <tr>\n",
       "      <th>138</th>\n",
       "      <td>77</td>\n",
       "      <td>Zambia</td>\n",
       "      <td>Sub Saharan Africa</td>\n",
       "      <td>58.409</td>\n",
       "      <td>5.0</td>\n",
       "      <td>16.674248</td>\n",
       "      <td>0.99</td>\n",
       "      <td>0.408122</td>\n",
       "      <td>38.674163</td>\n",
       "      <td>4.469524</td>\n",
       "      <td>25.224246</td>\n",
       "      <td>1686.618024</td>\n",
       "      <td>14786581</td>\n",
       "      <td>Data unavailable</td>\n",
       "    </tr>\n",
       "    <tr>\n",
       "      <th>139</th>\n",
       "      <td>99</td>\n",
       "      <td>Zimbabwe</td>\n",
       "      <td>Sub Saharan Africa</td>\n",
       "      <td>53.673</td>\n",
       "      <td>5.0</td>\n",
       "      <td>16.428627</td>\n",
       "      <td>1.37</td>\n",
       "      <td>0.366085</td>\n",
       "      <td>36.914005</td>\n",
       "      <td>4.608568</td>\n",
       "      <td>22.112535</td>\n",
       "      <td>850.827694</td>\n",
       "      <td>14565482</td>\n",
       "      <td>Data unavailable</td>\n",
       "    </tr>\n",
       "  </tbody>\n",
       "</table>\n",
       "</div>"
      ],
      "text/plain": [
       "     HPI_Rank    Country                        Region  \\\n",
       "135        29  Venezuela                      Americas   \n",
       "136         5    Vietnam                  Asia Pacific   \n",
       "137        94      Yemen  Middle East and North Africa   \n",
       "138        77     Zambia            Sub Saharan Africa   \n",
       "139        99   Zimbabwe            Sub Saharan Africa   \n",
       "\n",
       "     Average_Life_Expectancy  Average_Wellbeing  Happy_Life_Years  Footprint  \\\n",
       "135                   73.885                7.1         41.494509       3.57   \n",
       "136                   75.477                5.5         32.770246       1.65   \n",
       "137                   63.340                4.1         15.204282       1.03   \n",
       "138                   58.409                5.0         16.674248       0.99   \n",
       "139                   53.673                5.0         16.428627       1.37   \n",
       "\n",
       "     Inequality_of_Outcomes  IA_LifeExpectancy  IA_Wellbeing  HPI_Index  \\\n",
       "135                0.189280          65.453733      6.497572  33.569960   \n",
       "136                0.185921          64.794265      5.215639  40.307589   \n",
       "137                0.387313          44.721219      3.557846  22.754269   \n",
       "138                0.408122          38.674163      4.469524  25.224246   \n",
       "139                0.366085          36.914005      4.608568  22.112535   \n",
       "\n",
       "     GDPpercapita  Population        GINI_Index  \n",
       "135  12771.595036    29854238  Data unavailable  \n",
       "136   1754.547974    88809200              38.7  \n",
       "137   1289.034078    24882792  Data unavailable  \n",
       "138   1686.618024    14786581  Data unavailable  \n",
       "139    850.827694    14565482  Data unavailable  "
      ]
     },
     "execution_count": 110,
     "metadata": {},
     "output_type": "execute_result"
    }
   ],
   "source": [
    "hpi.tail()"
   ]
  },
  {
   "cell_type": "code",
   "execution_count": 111,
   "metadata": {},
   "outputs": [
    {
     "data": {
      "text/plain": [
       "HPI_Rank                     int64\n",
       "Country                     object\n",
       "Region                      object\n",
       "Average_Life_Expectancy    float64\n",
       "                            ...   \n",
       "HPI_Index                  float64\n",
       "GDPpercapita               float64\n",
       "Population                   int64\n",
       "GINI_Index                  object\n",
       "Length: 14, dtype: object"
      ]
     },
     "execution_count": 111,
     "metadata": {},
     "output_type": "execute_result"
    }
   ],
   "source": [
    "hpi.dtypes"
   ]
  },
  {
   "cell_type": "code",
   "execution_count": 112,
   "metadata": {},
   "outputs": [
    {
     "data": {
      "text/html": [
       "<div>\n",
       "<style scoped>\n",
       "    .dataframe tbody tr th:only-of-type {\n",
       "        vertical-align: middle;\n",
       "    }\n",
       "\n",
       "    .dataframe tbody tr th {\n",
       "        vertical-align: top;\n",
       "    }\n",
       "\n",
       "    .dataframe thead th {\n",
       "        text-align: right;\n",
       "    }\n",
       "</style>\n",
       "<table border=\"1\" class=\"dataframe\">\n",
       "  <thead>\n",
       "    <tr style=\"text-align: right;\">\n",
       "      <th></th>\n",
       "      <th>HPI_Rank</th>\n",
       "      <th>Average_Life_Expectancy</th>\n",
       "      <th>Average_Wellbeing</th>\n",
       "      <th>Happy_Life_Years</th>\n",
       "      <th>Footprint</th>\n",
       "      <th>Inequality_of_Outcomes</th>\n",
       "      <th>IA_LifeExpectancy</th>\n",
       "      <th>IA_Wellbeing</th>\n",
       "      <th>HPI_Index</th>\n",
       "      <th>GDPpercapita</th>\n",
       "      <th>Population</th>\n",
       "    </tr>\n",
       "  </thead>\n",
       "  <tbody>\n",
       "    <tr>\n",
       "      <th>count</th>\n",
       "      <td>140.0000</td>\n",
       "      <td>140.000000</td>\n",
       "      <td>140.000000</td>\n",
       "      <td>140.000000</td>\n",
       "      <td>140.000000</td>\n",
       "      <td>140.000000</td>\n",
       "      <td>140.000000</td>\n",
       "      <td>140.000000</td>\n",
       "      <td>140.000000</td>\n",
       "      <td>140.000000</td>\n",
       "      <td>1.400000e+02</td>\n",
       "    </tr>\n",
       "    <tr>\n",
       "      <th>mean</th>\n",
       "      <td>70.5000</td>\n",
       "      <td>70.925407</td>\n",
       "      <td>5.407835</td>\n",
       "      <td>30.248016</td>\n",
       "      <td>3.257543</td>\n",
       "      <td>0.232912</td>\n",
       "      <td>60.341523</td>\n",
       "      <td>4.972614</td>\n",
       "      <td>26.411113</td>\n",
       "      <td>13911.068748</td>\n",
       "      <td>4.800829e+07</td>\n",
       "    </tr>\n",
       "    <tr>\n",
       "      <th>std</th>\n",
       "      <td>40.5586</td>\n",
       "      <td>8.752559</td>\n",
       "      <td>1.148389</td>\n",
       "      <td>13.257900</td>\n",
       "      <td>2.303664</td>\n",
       "      <td>0.120883</td>\n",
       "      <td>14.880583</td>\n",
       "      <td>1.187299</td>\n",
       "      <td>7.317963</td>\n",
       "      <td>19746.184793</td>\n",
       "      <td>1.597180e+08</td>\n",
       "    </tr>\n",
       "    <tr>\n",
       "      <th>min</th>\n",
       "      <td>1.0000</td>\n",
       "      <td>48.910000</td>\n",
       "      <td>2.866667</td>\n",
       "      <td>8.970005</td>\n",
       "      <td>0.610000</td>\n",
       "      <td>0.043221</td>\n",
       "      <td>27.318494</td>\n",
       "      <td>2.420936</td>\n",
       "      <td>12.777156</td>\n",
       "      <td>244.196486</td>\n",
       "      <td>2.474980e+05</td>\n",
       "    </tr>\n",
       "    <tr>\n",
       "      <th>25%</th>\n",
       "      <td>35.7500</td>\n",
       "      <td>65.035750</td>\n",
       "      <td>4.575000</td>\n",
       "      <td>18.688270</td>\n",
       "      <td>1.425000</td>\n",
       "      <td>0.133526</td>\n",
       "      <td>48.211281</td>\n",
       "      <td>4.047168</td>\n",
       "      <td>21.206581</td>\n",
       "      <td>1628.064475</td>\n",
       "      <td>4.248207e+06</td>\n",
       "    </tr>\n",
       "    <tr>\n",
       "      <th>50%</th>\n",
       "      <td>70.5000</td>\n",
       "      <td>73.498000</td>\n",
       "      <td>5.250000</td>\n",
       "      <td>29.402414</td>\n",
       "      <td>2.680000</td>\n",
       "      <td>0.211742</td>\n",
       "      <td>63.406329</td>\n",
       "      <td>4.816266</td>\n",
       "      <td>26.290152</td>\n",
       "      <td>5691.063252</td>\n",
       "      <td>1.064617e+07</td>\n",
       "    </tr>\n",
       "    <tr>\n",
       "      <th>75%</th>\n",
       "      <td>105.2500</td>\n",
       "      <td>77.024500</td>\n",
       "      <td>6.225000</td>\n",
       "      <td>39.712583</td>\n",
       "      <td>4.482500</td>\n",
       "      <td>0.329324</td>\n",
       "      <td>72.574285</td>\n",
       "      <td>5.704285</td>\n",
       "      <td>31.541461</td>\n",
       "      <td>15159.065819</td>\n",
       "      <td>3.342601e+07</td>\n",
       "    </tr>\n",
       "    <tr>\n",
       "      <th>max</th>\n",
       "      <td>140.0000</td>\n",
       "      <td>83.572000</td>\n",
       "      <td>7.800000</td>\n",
       "      <td>59.315523</td>\n",
       "      <td>15.820000</td>\n",
       "      <td>0.507342</td>\n",
       "      <td>81.262817</td>\n",
       "      <td>7.624904</td>\n",
       "      <td>44.714071</td>\n",
       "      <td>105447.093241</td>\n",
       "      <td>1.350695e+09</td>\n",
       "    </tr>\n",
       "  </tbody>\n",
       "</table>\n",
       "</div>"
      ],
      "text/plain": [
       "       HPI_Rank  Average_Life_Expectancy  Average_Wellbeing  Happy_Life_Years  \\\n",
       "count  140.0000               140.000000         140.000000        140.000000   \n",
       "mean    70.5000                70.925407           5.407835         30.248016   \n",
       "std     40.5586                 8.752559           1.148389         13.257900   \n",
       "min      1.0000                48.910000           2.866667          8.970005   \n",
       "25%     35.7500                65.035750           4.575000         18.688270   \n",
       "50%     70.5000                73.498000           5.250000         29.402414   \n",
       "75%    105.2500                77.024500           6.225000         39.712583   \n",
       "max    140.0000                83.572000           7.800000         59.315523   \n",
       "\n",
       "        Footprint  Inequality_of_Outcomes  IA_LifeExpectancy  IA_Wellbeing  \\\n",
       "count  140.000000              140.000000         140.000000    140.000000   \n",
       "mean     3.257543                0.232912          60.341523      4.972614   \n",
       "std      2.303664                0.120883          14.880583      1.187299   \n",
       "min      0.610000                0.043221          27.318494      2.420936   \n",
       "25%      1.425000                0.133526          48.211281      4.047168   \n",
       "50%      2.680000                0.211742          63.406329      4.816266   \n",
       "75%      4.482500                0.329324          72.574285      5.704285   \n",
       "max     15.820000                0.507342          81.262817      7.624904   \n",
       "\n",
       "        HPI_Index   GDPpercapita    Population  \n",
       "count  140.000000     140.000000  1.400000e+02  \n",
       "mean    26.411113   13911.068748  4.800829e+07  \n",
       "std      7.317963   19746.184793  1.597180e+08  \n",
       "min     12.777156     244.196486  2.474980e+05  \n",
       "25%     21.206581    1628.064475  4.248207e+06  \n",
       "50%     26.290152    5691.063252  1.064617e+07  \n",
       "75%     31.541461   15159.065819  3.342601e+07  \n",
       "max     44.714071  105447.093241  1.350695e+09  "
      ]
     },
     "execution_count": 112,
     "metadata": {},
     "output_type": "execute_result"
    }
   ],
   "source": [
    "hpi.describe()"
   ]
  },
  {
   "cell_type": "markdown",
   "metadata": {},
   "source": [
    "### Print distribution plots of the actual variables"
   ]
  },
  {
   "cell_type": "code",
   "execution_count": 116,
   "metadata": {},
   "outputs": [
    {
     "name": "stdout",
     "output_type": "stream",
     "text": [
      "Average_Wellbeing\n",
      "0      3.8\n",
      "1      5.5\n",
      "2      5.6\n",
      "3      6.5\n",
      "      ... \n",
      "136    5.5\n",
      "137    4.1\n",
      "138    5.0\n",
      "139    5.0\n",
      "Name: Average_Wellbeing, Length: 140, dtype: float64\n"
     ]
    },
    {
     "data": {
      "image/png": "[encoded data removed]",
      "text/plain": [
       "<Figure size 432x288 with 1 Axes>"
      ]
     },
     "metadata": {
      "needs_background": "light"
     },
     "output_type": "display_data"
    },
    {
     "name": "stdout",
     "output_type": "stream",
     "text": [
      "Happy_Life_Years\n",
      "0      12.396024\n",
      "1      34.414736\n",
      "2      30.469461\n",
      "3      40.166674\n",
      "         ...    \n",
      "136    32.770246\n",
      "137    15.204282\n",
      "138    16.674248\n",
      "139    16.428627\n",
      "Name: Happy_Life_Years, Length: 140, dtype: float64\n"
     ]
    },
    {
     "data": {
      "image/png": "[encoded data removed]",
      "text/plain": [
       "<Figure size 432x288 with 1 Axes>"
      ]
     },
     "metadata": {
      "needs_background": "light"
     },
     "output_type": "display_data"
    },
    {
     "name": "stdout",
     "output_type": "stream",
     "text": [
      "Footprint\n",
      "0      0.79\n",
      "1      2.21\n",
      "2      2.12\n",
      "3      3.14\n",
      "       ... \n",
      "136    1.65\n",
      "137    1.03\n",
      "138    0.99\n",
      "139    1.37\n",
      "Name: Footprint, Length: 140, dtype: float64\n"
     ]
    },
    {
     "data": {
      "image/png": "[encoded data removed]",
      "text/plain": [
       "<Figure size 432x288 with 1 Axes>"
      ]
     },
     "metadata": {
      "needs_background": "light"
     },
     "output_type": "display_data"
    },
    {
     "name": "stdout",
     "output_type": "stream",
     "text": [
      "Inequality_of_Outcomes\n",
      "0      0.426557\n",
      "1      0.165134\n",
      "2      0.244862\n",
      "3      0.164238\n",
      "         ...   \n",
      "136    0.185921\n",
      "137    0.387313\n",
      "138    0.408122\n",
      "139    0.366085\n",
      "Name: Inequality_of_Outcomes, Length: 140, dtype: float64\n"
     ]
    },
    {
     "data": {
      "image/png": "[encoded data removed]",
      "text/plain": [
       "<Figure size 432x288 with 1 Axes>"
      ]
     },
     "metadata": {
      "needs_background": "light"
     },
     "output_type": "display_data"
    },
    {
     "name": "stdout",
     "output_type": "stream",
     "text": [
      "IA_LifeExpectancy\n",
      "0      38.348818\n",
      "1      69.671159\n",
      "2      60.474545\n",
      "3      68.349583\n",
      "         ...    \n",
      "136    64.794265\n",
      "137    44.721219\n",
      "138    38.674163\n",
      "139    36.914005\n",
      "Name: IA_LifeExpectancy, Length: 140, dtype: float64\n"
     ]
    },
    {
     "data": {
      "image/png": "[encoded data removed]",
      "text/plain": [
       "<Figure size 432x288 with 1 Axes>"
      ]
     },
     "metadata": {
      "needs_background": "light"
     },
     "output_type": "display_data"
    },
    {
     "name": "stdout",
     "output_type": "stream",
     "text": [
      "IA_Wellbeing\n",
      "0      3.390494\n",
      "1      5.097650\n",
      "2      5.196449\n",
      "3      6.034707\n",
      "         ...   \n",
      "136    5.215639\n",
      "137    3.557846\n",
      "138    4.469524\n",
      "139    4.608568\n",
      "Name: IA_Wellbeing, Length: 140, dtype: float64\n"
     ]
    },
    {
     "data": {
      "image/png": "[encoded data removed]",
      "text/plain": [
       "<Figure size 432x288 with 1 Axes>"
      ]
     },
     "metadata": {
      "needs_background": "light"
     },
     "output_type": "display_data"
    },
    {
     "name": "stdout",
     "output_type": "stream",
     "text": [
      "HPI_Index\n",
      "0      20.225350\n",
      "1      36.766874\n",
      "2      33.300543\n",
      "3      35.190244\n",
      "         ...    \n",
      "136    40.307589\n",
      "137    22.754269\n",
      "138    25.224246\n",
      "139    22.112535\n",
      "Name: HPI_Index, Length: 140, dtype: float64\n"
     ]
    },
    {
     "data": {
      "image/png": "[encoded data removed]",
      "text/plain": [
       "<Figure size 432x288 with 1 Axes>"
      ]
     },
     "metadata": {
      "needs_background": "light"
     },
     "output_type": "display_data"
    },
    {
     "name": "stdout",
     "output_type": "stream",
     "text": [
      "GDPpercapita\n",
      "0        690.842629\n",
      "1       4247.485437\n",
      "2       5583.616160\n",
      "3      14357.411589\n",
      "           ...     \n",
      "136     1754.547974\n",
      "137     1289.034078\n",
      "138     1686.618024\n",
      "139      850.827694\n",
      "Name: GDPpercapita, Length: 140, dtype: float64\n"
     ]
    },
    {
     "data": {
      "image/png": "[encoded data removed]",
      "text/plain": [
       "<Figure size 432x288 with 1 Axes>"
      ]
     },
     "metadata": {
      "needs_background": "light"
     },
     "output_type": "display_data"
    },
    {
     "name": "stdout",
     "output_type": "stream",
     "text": [
      "Population\n",
      "0      29726803\n",
      "1       2900489\n",
      "2      37439427\n",
      "3      42095224\n",
      "         ...   \n",
      "136    88809200\n",
      "137    24882792\n",
      "138    14786581\n",
      "139    14565482\n",
      "Name: Population, Length: 140, dtype: int64\n"
     ]
    },
    {
     "data": {
      "image/png": "[encoded data removed]",
      "text/plain": [
       "<Figure size 432x288 with 1 Axes>"
      ]
     },
     "metadata": {
      "needs_background": "light"
     },
     "output_type": "display_data"
    }
   ],
   "source": [
    "# exclude first 2 columns, select all rows\n",
    "for i in hpi.iloc[:, 4:13]:\n",
    "    # print the name of the column\n",
    "    print(i)\n",
    "    # print the column to see the values\n",
    "    print(hpi[i])\n",
    "    # plot a distogram\n",
    "    sns.distplot(hpi[i])\n",
    "    # need to close each histogram otherwise all will be plotted on the same figure\n",
    "    plt.show()"
   ]
  },
  {
   "cell_type": "code",
   "execution_count": 117,
   "metadata": {},
   "outputs": [
    {
     "data": {
      "text/html": [
       "<div>\n",
       "<style scoped>\n",
       "    .dataframe tbody tr th:only-of-type {\n",
       "        vertical-align: middle;\n",
       "    }\n",
       "\n",
       "    .dataframe tbody tr th {\n",
       "        vertical-align: top;\n",
       "    }\n",
       "\n",
       "    .dataframe thead th {\n",
       "        text-align: right;\n",
       "    }\n",
       "</style>\n",
       "<table border=\"1\" class=\"dataframe\">\n",
       "  <thead>\n",
       "    <tr style=\"text-align: right;\">\n",
       "      <th></th>\n",
       "      <th>HPI_Rank</th>\n",
       "      <th>Country</th>\n",
       "      <th>Region</th>\n",
       "      <th>Average_Life_Expectancy</th>\n",
       "      <th>Average_Wellbeing</th>\n",
       "      <th>Happy_Life_Years</th>\n",
       "      <th>Footprint</th>\n",
       "      <th>Inequality_of_Outcomes</th>\n",
       "      <th>IA_LifeExpectancy</th>\n",
       "      <th>IA_Wellbeing</th>\n",
       "      <th>HPI_Index</th>\n",
       "      <th>GDPpercapita</th>\n",
       "      <th>Population</th>\n",
       "      <th>GINI_Index</th>\n",
       "    </tr>\n",
       "  </thead>\n",
       "  <tbody>\n",
       "    <tr>\n",
       "      <th>0</th>\n",
       "      <td>110</td>\n",
       "      <td>Afghanistan</td>\n",
       "      <td>Middle East and North Africa</td>\n",
       "      <td>59.668</td>\n",
       "      <td>3.8</td>\n",
       "      <td>12.396024</td>\n",
       "      <td>0.79</td>\n",
       "      <td>0.426557</td>\n",
       "      <td>38.348818</td>\n",
       "      <td>3.390494</td>\n",
       "      <td>20.225350</td>\n",
       "      <td>690.842629</td>\n",
       "      <td>29726803</td>\n",
       "      <td>Data unavailable</td>\n",
       "    </tr>\n",
       "    <tr>\n",
       "      <th>1</th>\n",
       "      <td>13</td>\n",
       "      <td>Albania</td>\n",
       "      <td>Post-communist</td>\n",
       "      <td>77.347</td>\n",
       "      <td>5.5</td>\n",
       "      <td>34.414736</td>\n",
       "      <td>2.21</td>\n",
       "      <td>0.165134</td>\n",
       "      <td>69.671159</td>\n",
       "      <td>5.097650</td>\n",
       "      <td>36.766874</td>\n",
       "      <td>4247.485437</td>\n",
       "      <td>2900489</td>\n",
       "      <td>28.96</td>\n",
       "    </tr>\n",
       "    <tr>\n",
       "      <th>2</th>\n",
       "      <td>30</td>\n",
       "      <td>Algeria</td>\n",
       "      <td>Middle East and North Africa</td>\n",
       "      <td>74.313</td>\n",
       "      <td>5.6</td>\n",
       "      <td>30.469461</td>\n",
       "      <td>2.12</td>\n",
       "      <td>0.244862</td>\n",
       "      <td>60.474545</td>\n",
       "      <td>5.196449</td>\n",
       "      <td>33.300543</td>\n",
       "      <td>5583.616160</td>\n",
       "      <td>37439427</td>\n",
       "      <td>Data unavailable</td>\n",
       "    </tr>\n",
       "    <tr>\n",
       "      <th>3</th>\n",
       "      <td>19</td>\n",
       "      <td>Argentina</td>\n",
       "      <td>Americas</td>\n",
       "      <td>75.927</td>\n",
       "      <td>6.5</td>\n",
       "      <td>40.166674</td>\n",
       "      <td>3.14</td>\n",
       "      <td>0.164238</td>\n",
       "      <td>68.349583</td>\n",
       "      <td>6.034707</td>\n",
       "      <td>35.190244</td>\n",
       "      <td>14357.411589</td>\n",
       "      <td>42095224</td>\n",
       "      <td>42.49</td>\n",
       "    </tr>\n",
       "    <tr>\n",
       "      <th>4</th>\n",
       "      <td>73</td>\n",
       "      <td>Armenia</td>\n",
       "      <td>Post-communist</td>\n",
       "      <td>74.446</td>\n",
       "      <td>4.3</td>\n",
       "      <td>24.018760</td>\n",
       "      <td>2.23</td>\n",
       "      <td>0.216648</td>\n",
       "      <td>66.921682</td>\n",
       "      <td>3.747140</td>\n",
       "      <td>25.666417</td>\n",
       "      <td>3565.517575</td>\n",
       "      <td>2978339</td>\n",
       "      <td>30.48</td>\n",
       "    </tr>\n",
       "  </tbody>\n",
       "</table>\n",
       "</div>"
      ],
      "text/plain": [
       "   HPI_Rank      Country                        Region  \\\n",
       "0       110  Afghanistan  Middle East and North Africa   \n",
       "1        13      Albania                Post-communist   \n",
       "2        30      Algeria  Middle East and North Africa   \n",
       "3        19    Argentina                      Americas   \n",
       "4        73      Armenia                Post-communist   \n",
       "\n",
       "   Average_Life_Expectancy  Average_Wellbeing  Happy_Life_Years  Footprint  \\\n",
       "0                   59.668                3.8         12.396024       0.79   \n",
       "1                   77.347                5.5         34.414736       2.21   \n",
       "2                   74.313                5.6         30.469461       2.12   \n",
       "3                   75.927                6.5         40.166674       3.14   \n",
       "4                   74.446                4.3         24.018760       2.23   \n",
       "\n",
       "   Inequality_of_Outcomes  IA_LifeExpectancy  IA_Wellbeing  HPI_Index  \\\n",
       "0                0.426557          38.348818      3.390494  20.225350   \n",
       "1                0.165134          69.671159      5.097650  36.766874   \n",
       "2                0.244862          60.474545      5.196449  33.300543   \n",
       "3                0.164238          68.349583      6.034707  35.190244   \n",
       "4                0.216648          66.921682      3.747140  25.666417   \n",
       "\n",
       "   GDPpercapita  Population        GINI_Index  \n",
       "0    690.842629    29726803  Data unavailable  \n",
       "1   4247.485437     2900489             28.96  \n",
       "2   5583.616160    37439427  Data unavailable  \n",
       "3  14357.411589    42095224             42.49  \n",
       "4   3565.517575     2978339             30.48  "
      ]
     },
     "execution_count": 117,
     "metadata": {},
     "output_type": "execute_result"
    }
   ],
   "source": [
    "hpi.head()"
   ]
  },
  {
   "cell_type": "code",
   "execution_count": 87,
   "metadata": {},
   "outputs": [
    {
     "name": "stdout",
     "output_type": "stream",
     "text": [
      "Equation6 HPI.png\n",
      "Equation6 Happy Planet Index.textClipping\n",
      "Mean anthropometric measurements 2.png\n",
      "Mean anthropometric measurements.png\n"
     ]
    }
   ],
   "source": [
    "!ls images"
   ]
  },
  {
   "cell_type": "markdown",
   "metadata": {},
   "source": [
    "### The Happy Planet Index and how it is calculated"
   ]
  },
  {
   "cell_type": "markdown",
   "metadata": {},
   "source": [
    "The Happy Planet Index is calculated as outlined in the [Happy Planets Index Methods Paper]( http://happyplanetindex.org/about#how)\n",
    "\n",
    "$ Happy Planet Index Approximate  = \\frac{(Life Expectancy * Experienced Wellbeing) * Inequality Of Outcomes }{Ecological Footprint}$"
   ]
  },
  {
   "cell_type": "markdown",
   "metadata": {},
   "source": [
    "There are some other calculations involved to get to this point as detailed in the Methods paper. These are actually included in the dataset so I could either simulate the variables and then do the adjustments or simulate the adjusted variables.\n",
    "\n",
    "For now I will focus recreate this index after simulating the individual columns. The methods outlines 5 equations. Equation 6 is the final calculation of the Happy Planet Index"
   ]
  },
  {
   "cell_type": "markdown",
   "metadata": {},
   "source": [
    "\n",
    "<img src=\"images/Equation6 HPI.png\" height=\"150\" alt=\"Equation 6\" />"
   ]
  },
  {
   "cell_type": "markdown",
   "metadata": {},
   "source": [
    "### Working out the happy planet index based on the methods paper\n",
    "\n",
    "To calculate HPI scores, begin by multiplying the mean life expectancy of residents of a given country by mean experienced wellbeing of residents in the same country... to get the number of inequality-adjusted Happy Life Years experienced by a typical resident in each country\n"
   ]
  },
  {
   "cell_type": "markdown",
   "metadata": {},
   "source": [
    "$Happy Planet Index_IA = Φ × ((Experienced WellbeingIA - α × Life expectancyIA) + 𝜋) (Ecological Footprint + β)\n",
    "where: IA = inequality adjusted, 𝛼 = 0.158, 𝛽 = 2.067, 𝜋 = 3.951, Φ = 0.452$\n"
   ]
  },
  {
   "cell_type": "markdown",
   "metadata": {},
   "source": [
    "Essentially I need to calculate the HPI_Index. It is included in the dataset. "
   ]
  },
  {
   "cell_type": "markdown",
   "metadata": {},
   "source": []
  },
  {
   "cell_type": "markdown",
   "metadata": {},
   "source": [
    "### Equation 1\n",
    "\n",
    "\n",
    "$Happy Planet Index ≈ ( Life Expectancy x Experienced Wellbeing) x Inequality Of Outcomes Ecological Footprint$\n"
   ]
  },
  {
   "cell_type": "code",
   "execution_count": null,
   "metadata": {},
   "outputs": [],
   "source": []
  },
  {
   "cell_type": "code",
   "execution_count": null,
   "metadata": {},
   "outputs": [],
   "source": []
  },
  {
   "cell_type": "code",
   "execution_count": 88,
   "metadata": {},
   "outputs": [],
   "source": [
    "phi=0.452\n",
    "alpha=0.158\n",
    "Beta= 2.067\n",
    "pi=3.951\n"
   ]
  },
  {
   "cell_type": "code",
   "execution_count": 128,
   "metadata": {},
   "outputs": [],
   "source": [
    "hpi['calc']= phi*((hpi.IA_Wellbeing - (alpha* hpi.IA_LifeExpectancy) + pi))/ (hpi.Footprint+ Beta)"
   ]
  },
  {
   "cell_type": "code",
   "execution_count": null,
   "metadata": {},
   "outputs": [],
   "source": []
  },
  {
   "cell_type": "code",
   "execution_count": 129,
   "metadata": {},
   "outputs": [
    {
     "data": {
      "text/html": [
       "<div>\n",
       "<style scoped>\n",
       "    .dataframe tbody tr th:only-of-type {\n",
       "        vertical-align: middle;\n",
       "    }\n",
       "\n",
       "    .dataframe tbody tr th {\n",
       "        vertical-align: top;\n",
       "    }\n",
       "\n",
       "    .dataframe thead th {\n",
       "        text-align: right;\n",
       "    }\n",
       "</style>\n",
       "<table border=\"1\" class=\"dataframe\">\n",
       "  <thead>\n",
       "    <tr style=\"text-align: right;\">\n",
       "      <th></th>\n",
       "      <th>HPI_Rank</th>\n",
       "      <th>Country</th>\n",
       "      <th>Region</th>\n",
       "      <th>Average_Life_Expectancy</th>\n",
       "      <th>Average_Wellbeing</th>\n",
       "      <th>Happy_Life_Years</th>\n",
       "      <th>Footprint</th>\n",
       "      <th>Inequality_of_Outcomes</th>\n",
       "      <th>IA_LifeExpectancy</th>\n",
       "      <th>IA_Wellbeing</th>\n",
       "      <th>HPI_Index</th>\n",
       "      <th>GDPpercapita</th>\n",
       "      <th>Population</th>\n",
       "      <th>GINI_Index</th>\n",
       "      <th>calc</th>\n",
       "    </tr>\n",
       "  </thead>\n",
       "  <tbody>\n",
       "    <tr>\n",
       "      <th>0</th>\n",
       "      <td>110</td>\n",
       "      <td>Afghanistan</td>\n",
       "      <td>Middle East and North Africa</td>\n",
       "      <td>59.668</td>\n",
       "      <td>3.8</td>\n",
       "      <td>12.396024</td>\n",
       "      <td>0.79</td>\n",
       "      <td>0.426557</td>\n",
       "      <td>38.348818</td>\n",
       "      <td>3.390494</td>\n",
       "      <td>20.225350</td>\n",
       "      <td>690.842629</td>\n",
       "      <td>29726803</td>\n",
       "      <td>Data unavailable</td>\n",
       "      <td>0.202883</td>\n",
       "    </tr>\n",
       "    <tr>\n",
       "      <th>1</th>\n",
       "      <td>13</td>\n",
       "      <td>Albania</td>\n",
       "      <td>Post-communist</td>\n",
       "      <td>77.347</td>\n",
       "      <td>5.5</td>\n",
       "      <td>34.414736</td>\n",
       "      <td>2.21</td>\n",
       "      <td>0.165134</td>\n",
       "      <td>69.671159</td>\n",
       "      <td>5.097650</td>\n",
       "      <td>36.766874</td>\n",
       "      <td>4247.485437</td>\n",
       "      <td>2900489</td>\n",
       "      <td>28.96</td>\n",
       "      <td>-0.207072</td>\n",
       "    </tr>\n",
       "    <tr>\n",
       "      <th>2</th>\n",
       "      <td>30</td>\n",
       "      <td>Algeria</td>\n",
       "      <td>Middle East and North Africa</td>\n",
       "      <td>74.313</td>\n",
       "      <td>5.6</td>\n",
       "      <td>30.469461</td>\n",
       "      <td>2.12</td>\n",
       "      <td>0.244862</td>\n",
       "      <td>60.474545</td>\n",
       "      <td>5.196449</td>\n",
       "      <td>33.300543</td>\n",
       "      <td>5583.616160</td>\n",
       "      <td>37439427</td>\n",
       "      <td>Data unavailable</td>\n",
       "      <td>-0.043994</td>\n",
       "    </tr>\n",
       "    <tr>\n",
       "      <th>3</th>\n",
       "      <td>19</td>\n",
       "      <td>Argentina</td>\n",
       "      <td>Americas</td>\n",
       "      <td>75.927</td>\n",
       "      <td>6.5</td>\n",
       "      <td>40.166674</td>\n",
       "      <td>3.14</td>\n",
       "      <td>0.164238</td>\n",
       "      <td>68.349583</td>\n",
       "      <td>6.034707</td>\n",
       "      <td>35.190244</td>\n",
       "      <td>14357.411589</td>\n",
       "      <td>42095224</td>\n",
       "      <td>42.49</td>\n",
       "      <td>-0.070619</td>\n",
       "    </tr>\n",
       "    <tr>\n",
       "      <th>4</th>\n",
       "      <td>73</td>\n",
       "      <td>Armenia</td>\n",
       "      <td>Post-communist</td>\n",
       "      <td>74.446</td>\n",
       "      <td>4.3</td>\n",
       "      <td>24.018760</td>\n",
       "      <td>2.23</td>\n",
       "      <td>0.216648</td>\n",
       "      <td>66.921682</td>\n",
       "      <td>3.747140</td>\n",
       "      <td>25.666417</td>\n",
       "      <td>3565.517575</td>\n",
       "      <td>2978339</td>\n",
       "      <td>30.48</td>\n",
       "      <td>-0.302471</td>\n",
       "    </tr>\n",
       "  </tbody>\n",
       "</table>\n",
       "</div>"
      ],
      "text/plain": [
       "   HPI_Rank      Country                        Region  \\\n",
       "0       110  Afghanistan  Middle East and North Africa   \n",
       "1        13      Albania                Post-communist   \n",
       "2        30      Algeria  Middle East and North Africa   \n",
       "3        19    Argentina                      Americas   \n",
       "4        73      Armenia                Post-communist   \n",
       "\n",
       "   Average_Life_Expectancy  Average_Wellbeing  Happy_Life_Years  Footprint  \\\n",
       "0                   59.668                3.8         12.396024       0.79   \n",
       "1                   77.347                5.5         34.414736       2.21   \n",
       "2                   74.313                5.6         30.469461       2.12   \n",
       "3                   75.927                6.5         40.166674       3.14   \n",
       "4                   74.446                4.3         24.018760       2.23   \n",
       "\n",
       "   Inequality_of_Outcomes  IA_LifeExpectancy  IA_Wellbeing  HPI_Index  \\\n",
       "0                0.426557          38.348818      3.390494  20.225350   \n",
       "1                0.165134          69.671159      5.097650  36.766874   \n",
       "2                0.244862          60.474545      5.196449  33.300543   \n",
       "3                0.164238          68.349583      6.034707  35.190244   \n",
       "4                0.216648          66.921682      3.747140  25.666417   \n",
       "\n",
       "   GDPpercapita  Population        GINI_Index      calc  \n",
       "0    690.842629    29726803  Data unavailable  0.202883  \n",
       "1   4247.485437     2900489             28.96 -0.207072  \n",
       "2   5583.616160    37439427  Data unavailable -0.043994  \n",
       "3  14357.411589    42095224             42.49 -0.070619  \n",
       "4   3565.517575     2978339             30.48 -0.302471  "
      ]
     },
     "execution_count": 129,
     "metadata": {},
     "output_type": "execute_result"
    }
   ],
   "source": [
    "hpi.head()"
   ]
  },
  {
   "cell_type": "code",
   "execution_count": null,
   "metadata": {},
   "outputs": [],
   "source": []
  },
  {
   "cell_type": "code",
   "execution_count": null,
   "metadata": {},
   "outputs": [],
   "source": []
  },
  {
   "cell_type": "code",
   "execution_count": 130,
   "metadata": {},
   "outputs": [
    {
     "data": {
      "text/html": [
       "<div>\n",
       "<style scoped>\n",
       "    .dataframe tbody tr th:only-of-type {\n",
       "        vertical-align: middle;\n",
       "    }\n",
       "\n",
       "    .dataframe tbody tr th {\n",
       "        vertical-align: top;\n",
       "    }\n",
       "\n",
       "    .dataframe thead th {\n",
       "        text-align: right;\n",
       "    }\n",
       "</style>\n",
       "<table border=\"1\" class=\"dataframe\">\n",
       "  <thead>\n",
       "    <tr style=\"text-align: right;\">\n",
       "      <th></th>\n",
       "      <th>HPI_Rank</th>\n",
       "      <th>Country</th>\n",
       "      <th>Region</th>\n",
       "      <th>Average_Life_Expectancy</th>\n",
       "      <th>Average_Wellbeing</th>\n",
       "      <th>Happy_Life_Years</th>\n",
       "      <th>Footprint</th>\n",
       "      <th>Inequality_of_Outcomes</th>\n",
       "      <th>IA_LifeExpectancy</th>\n",
       "      <th>IA_Wellbeing</th>\n",
       "      <th>HPI_Index</th>\n",
       "      <th>GDPpercapita</th>\n",
       "      <th>Population</th>\n",
       "      <th>GINI_Index</th>\n",
       "      <th>calc</th>\n",
       "    </tr>\n",
       "  </thead>\n",
       "  <tbody>\n",
       "    <tr>\n",
       "      <th>23</th>\n",
       "      <td>140</td>\n",
       "      <td>Chad</td>\n",
       "      <td>Sub Saharan Africa</td>\n",
       "      <td>50.808</td>\n",
       "      <td>4.000000</td>\n",
       "      <td>9.580599</td>\n",
       "      <td>1.46000</td>\n",
       "      <td>0.507342</td>\n",
       "      <td>27.318494</td>\n",
       "      <td>3.665056</td>\n",
       "      <td>12.777156</td>\n",
       "      <td>972.679345</td>\n",
       "      <td>12715465</td>\n",
       "      <td>Data unavailable</td>\n",
       "      <td>0.422875</td>\n",
       "    </tr>\n",
       "    <tr>\n",
       "      <th>72</th>\n",
       "      <td>139</td>\n",
       "      <td>Luxembourg</td>\n",
       "      <td>Europe</td>\n",
       "      <td>81.111</td>\n",
       "      <td>7.000000</td>\n",
       "      <td>51.677888</td>\n",
       "      <td>15.82000</td>\n",
       "      <td>0.067837</td>\n",
       "      <td>78.970294</td>\n",
       "      <td>6.702020</td>\n",
       "      <td>13.151174</td>\n",
       "      <td>105447.093241</td>\n",
       "      <td>530946</td>\n",
       "      <td>34.79</td>\n",
       "      <td>-0.046099</td>\n",
       "    </tr>\n",
       "    <tr>\n",
       "      <th>123</th>\n",
       "      <td>138</td>\n",
       "      <td>Togo</td>\n",
       "      <td>Sub Saharan Africa</td>\n",
       "      <td>58.601</td>\n",
       "      <td>2.866667</td>\n",
       "      <td>8.970005</td>\n",
       "      <td>1.13000</td>\n",
       "      <td>0.428742</td>\n",
       "      <td>39.639758</td>\n",
       "      <td>2.420936</td>\n",
       "      <td>13.233269</td>\n",
       "      <td>580.495062</td>\n",
       "      <td>6745581</td>\n",
       "      <td>Data unavailable</td>\n",
       "      <td>0.015390</td>\n",
       "    </tr>\n",
       "    <tr>\n",
       "      <th>11</th>\n",
       "      <td>137</td>\n",
       "      <td>Benin</td>\n",
       "      <td>Sub Saharan Africa</td>\n",
       "      <td>59.167</td>\n",
       "      <td>3.200000</td>\n",
       "      <td>9.935781</td>\n",
       "      <td>1.41000</td>\n",
       "      <td>0.444113</td>\n",
       "      <td>37.269799</td>\n",
       "      <td>2.823961</td>\n",
       "      <td>13.422365</td>\n",
       "      <td>807.688451</td>\n",
       "      <td>10049792</td>\n",
       "      <td>Data unavailable</td>\n",
       "      <td>0.115221</td>\n",
       "    </tr>\n",
       "    <tr>\n",
       "      <th>...</th>\n",
       "      <td>...</td>\n",
       "      <td>...</td>\n",
       "      <td>...</td>\n",
       "      <td>...</td>\n",
       "      <td>...</td>\n",
       "      <td>...</td>\n",
       "      <td>...</td>\n",
       "      <td>...</td>\n",
       "      <td>...</td>\n",
       "      <td>...</td>\n",
       "      <td>...</td>\n",
       "      <td>...</td>\n",
       "      <td>...</td>\n",
       "      <td>...</td>\n",
       "      <td>...</td>\n",
       "    </tr>\n",
       "    <tr>\n",
       "      <th>134</th>\n",
       "      <td>4</td>\n",
       "      <td>Vanuatu</td>\n",
       "      <td>Asia Pacific</td>\n",
       "      <td>71.341</td>\n",
       "      <td>6.470000</td>\n",
       "      <td>34.895752</td>\n",
       "      <td>1.86262</td>\n",
       "      <td>0.223332</td>\n",
       "      <td>60.321329</td>\n",
       "      <td>5.943032</td>\n",
       "      <td>40.570099</td>\n",
       "      <td>3158.420974</td>\n",
       "      <td>247498</td>\n",
       "      <td>Data unavailable</td>\n",
       "      <td>0.041784</td>\n",
       "    </tr>\n",
       "    <tr>\n",
       "      <th>26</th>\n",
       "      <td>3</td>\n",
       "      <td>Colombia</td>\n",
       "      <td>Americas</td>\n",
       "      <td>73.673</td>\n",
       "      <td>6.400000</td>\n",
       "      <td>35.070893</td>\n",
       "      <td>1.87000</td>\n",
       "      <td>0.235044</td>\n",
       "      <td>63.100669</td>\n",
       "      <td>5.715982</td>\n",
       "      <td>40.695011</td>\n",
       "      <td>7885.061292</td>\n",
       "      <td>46881018</td>\n",
       "      <td>53.54</td>\n",
       "      <td>-0.034778</td>\n",
       "    </tr>\n",
       "    <tr>\n",
       "      <th>79</th>\n",
       "      <td>2</td>\n",
       "      <td>Mexico</td>\n",
       "      <td>Americas</td>\n",
       "      <td>76.411</td>\n",
       "      <td>7.300000</td>\n",
       "      <td>44.262083</td>\n",
       "      <td>2.89000</td>\n",
       "      <td>0.187699</td>\n",
       "      <td>66.311965</td>\n",
       "      <td>6.832881</td>\n",
       "      <td>40.697292</td>\n",
       "      <td>9703.371017</td>\n",
       "      <td>122070963</td>\n",
       "      <td>48.07</td>\n",
       "      <td>0.027956</td>\n",
       "    </tr>\n",
       "    <tr>\n",
       "      <th>28</th>\n",
       "      <td>1</td>\n",
       "      <td>Costa Rica</td>\n",
       "      <td>Americas</td>\n",
       "      <td>79.076</td>\n",
       "      <td>7.300000</td>\n",
       "      <td>48.174792</td>\n",
       "      <td>2.84000</td>\n",
       "      <td>0.145568</td>\n",
       "      <td>72.615551</td>\n",
       "      <td>6.792280</td>\n",
       "      <td>44.714071</td>\n",
       "      <td>9733.396931</td>\n",
       "      <td>4654148</td>\n",
       "      <td>48.61</td>\n",
       "      <td>-0.067241</td>\n",
       "    </tr>\n",
       "  </tbody>\n",
       "</table>\n",
       "<p>140 rows × 15 columns</p>\n",
       "</div>"
      ],
      "text/plain": [
       "     HPI_Rank     Country              Region  Average_Life_Expectancy  \\\n",
       "23        140        Chad  Sub Saharan Africa                   50.808   \n",
       "72        139  Luxembourg              Europe                   81.111   \n",
       "123       138        Togo  Sub Saharan Africa                   58.601   \n",
       "11        137       Benin  Sub Saharan Africa                   59.167   \n",
       "..        ...         ...                 ...                      ...   \n",
       "134         4     Vanuatu        Asia Pacific                   71.341   \n",
       "26          3    Colombia            Americas                   73.673   \n",
       "79          2      Mexico            Americas                   76.411   \n",
       "28          1  Costa Rica            Americas                   79.076   \n",
       "\n",
       "     Average_Wellbeing  Happy_Life_Years  Footprint  Inequality_of_Outcomes  \\\n",
       "23            4.000000          9.580599    1.46000                0.507342   \n",
       "72            7.000000         51.677888   15.82000                0.067837   \n",
       "123           2.866667          8.970005    1.13000                0.428742   \n",
       "11            3.200000          9.935781    1.41000                0.444113   \n",
       "..                 ...               ...        ...                     ...   \n",
       "134           6.470000         34.895752    1.86262                0.223332   \n",
       "26            6.400000         35.070893    1.87000                0.235044   \n",
       "79            7.300000         44.262083    2.89000                0.187699   \n",
       "28            7.300000         48.174792    2.84000                0.145568   \n",
       "\n",
       "     IA_LifeExpectancy  IA_Wellbeing  HPI_Index   GDPpercapita  Population  \\\n",
       "23           27.318494      3.665056  12.777156     972.679345    12715465   \n",
       "72           78.970294      6.702020  13.151174  105447.093241      530946   \n",
       "123          39.639758      2.420936  13.233269     580.495062     6745581   \n",
       "11           37.269799      2.823961  13.422365     807.688451    10049792   \n",
       "..                 ...           ...        ...            ...         ...   \n",
       "134          60.321329      5.943032  40.570099    3158.420974      247498   \n",
       "26           63.100669      5.715982  40.695011    7885.061292    46881018   \n",
       "79           66.311965      6.832881  40.697292    9703.371017   122070963   \n",
       "28           72.615551      6.792280  44.714071    9733.396931     4654148   \n",
       "\n",
       "           GINI_Index      calc  \n",
       "23   Data unavailable  0.422875  \n",
       "72              34.79 -0.046099  \n",
       "123  Data unavailable  0.015390  \n",
       "11   Data unavailable  0.115221  \n",
       "..                ...       ...  \n",
       "134  Data unavailable  0.041784  \n",
       "26              53.54 -0.034778  \n",
       "79              48.07  0.027956  \n",
       "28              48.61 -0.067241  \n",
       "\n",
       "[140 rows x 15 columns]"
      ]
     },
     "execution_count": 130,
     "metadata": {},
     "output_type": "execute_result"
    }
   ],
   "source": [
    "hpi.sort_values('HPI_Index', ascending=True)"
   ]
  },
  {
   "cell_type": "code",
   "execution_count": 99,
   "metadata": {},
   "outputs": [],
   "source": [
    "from scipy.stats.mstats import gmean"
   ]
  },
  {
   "cell_type": "code",
   "execution_count": null,
   "metadata": {},
   "outputs": [],
   "source": []
  },
  {
   "cell_type": "code",
   "execution_count": null,
   "metadata": {},
   "outputs": [],
   "source": []
  },
  {
   "cell_type": "code",
   "execution_count": null,
   "metadata": {},
   "outputs": [],
   "source": []
  },
  {
   "cell_type": "code",
   "execution_count": 97,
   "metadata": {},
   "outputs": [
    {
     "data": {
      "text/html": [
       "<div>\n",
       "<style scoped>\n",
       "    .dataframe tbody tr th:only-of-type {\n",
       "        vertical-align: middle;\n",
       "    }\n",
       "\n",
       "    .dataframe tbody tr th {\n",
       "        vertical-align: top;\n",
       "    }\n",
       "\n",
       "    .dataframe thead th {\n",
       "        text-align: right;\n",
       "    }\n",
       "</style>\n",
       "<table border=\"1\" class=\"dataframe\">\n",
       "  <thead>\n",
       "    <tr style=\"text-align: right;\">\n",
       "      <th></th>\n",
       "      <th>HPI_Rank</th>\n",
       "      <th>Average_Life_Expectancy</th>\n",
       "      <th>Average_Wellbeing</th>\n",
       "      <th>Happy_Life_Years</th>\n",
       "      <th>Footprint</th>\n",
       "      <th>Inequality_of_Outcomes</th>\n",
       "      <th>calc</th>\n",
       "    </tr>\n",
       "  </thead>\n",
       "  <tbody>\n",
       "    <tr>\n",
       "      <th>count</th>\n",
       "      <td>140.0000</td>\n",
       "      <td>140.000000</td>\n",
       "      <td>140.000000</td>\n",
       "      <td>140.000000</td>\n",
       "      <td>140.000000</td>\n",
       "      <td>140.000000</td>\n",
       "      <td>140.000000</td>\n",
       "    </tr>\n",
       "    <tr>\n",
       "      <th>mean</th>\n",
       "      <td>70.5000</td>\n",
       "      <td>70.925407</td>\n",
       "      <td>5.407835</td>\n",
       "      <td>30.248016</td>\n",
       "      <td>3.257543</td>\n",
       "      <td>0.232912</td>\n",
       "      <td>-0.390584</td>\n",
       "    </tr>\n",
       "    <tr>\n",
       "      <th>std</th>\n",
       "      <td>40.5586</td>\n",
       "      <td>8.752559</td>\n",
       "      <td>1.148389</td>\n",
       "      <td>13.257900</td>\n",
       "      <td>2.303664</td>\n",
       "      <td>0.120883</td>\n",
       "      <td>0.270615</td>\n",
       "    </tr>\n",
       "    <tr>\n",
       "      <th>min</th>\n",
       "      <td>1.0000</td>\n",
       "      <td>48.910000</td>\n",
       "      <td>2.866667</td>\n",
       "      <td>8.970005</td>\n",
       "      <td>0.610000</td>\n",
       "      <td>0.043221</td>\n",
       "      <td>-1.109821</td>\n",
       "    </tr>\n",
       "    <tr>\n",
       "      <th>25%</th>\n",
       "      <td>35.7500</td>\n",
       "      <td>65.035750</td>\n",
       "      <td>4.575000</td>\n",
       "      <td>18.688270</td>\n",
       "      <td>1.425000</td>\n",
       "      <td>0.133526</td>\n",
       "      <td>-0.569650</td>\n",
       "    </tr>\n",
       "    <tr>\n",
       "      <th>50%</th>\n",
       "      <td>70.5000</td>\n",
       "      <td>73.498000</td>\n",
       "      <td>5.250000</td>\n",
       "      <td>29.402414</td>\n",
       "      <td>2.680000</td>\n",
       "      <td>0.211742</td>\n",
       "      <td>-0.357601</td>\n",
       "    </tr>\n",
       "    <tr>\n",
       "      <th>75%</th>\n",
       "      <td>105.2500</td>\n",
       "      <td>77.024500</td>\n",
       "      <td>6.225000</td>\n",
       "      <td>39.712583</td>\n",
       "      <td>4.482500</td>\n",
       "      <td>0.329324</td>\n",
       "      <td>-0.193455</td>\n",
       "    </tr>\n",
       "    <tr>\n",
       "      <th>max</th>\n",
       "      <td>140.0000</td>\n",
       "      <td>83.572000</td>\n",
       "      <td>7.800000</td>\n",
       "      <td>59.315523</td>\n",
       "      <td>15.820000</td>\n",
       "      <td>0.507342</td>\n",
       "      <td>0.377225</td>\n",
       "    </tr>\n",
       "  </tbody>\n",
       "</table>\n",
       "</div>"
      ],
      "text/plain": [
       "       HPI_Rank  Average_Life_Expectancy  Average_Wellbeing  Happy_Life_Years  \\\n",
       "count  140.0000               140.000000         140.000000        140.000000   \n",
       "mean    70.5000                70.925407           5.407835         30.248016   \n",
       "std     40.5586                 8.752559           1.148389         13.257900   \n",
       "min      1.0000                48.910000           2.866667          8.970005   \n",
       "25%     35.7500                65.035750           4.575000         18.688270   \n",
       "50%     70.5000                73.498000           5.250000         29.402414   \n",
       "75%    105.2500                77.024500           6.225000         39.712583   \n",
       "max    140.0000                83.572000           7.800000         59.315523   \n",
       "\n",
       "        Footprint  Inequality_of_Outcomes        calc  \n",
       "count  140.000000              140.000000  140.000000  \n",
       "mean     3.257543                0.232912   -0.390584  \n",
       "std      2.303664                0.120883    0.270615  \n",
       "min      0.610000                0.043221   -1.109821  \n",
       "25%      1.425000                0.133526   -0.569650  \n",
       "50%      2.680000                0.211742   -0.357601  \n",
       "75%      4.482500                0.329324   -0.193455  \n",
       "max     15.820000                0.507342    0.377225  "
      ]
     },
     "execution_count": 97,
     "metadata": {},
     "output_type": "execute_result"
    }
   ],
   "source": [
    "hpi.describe()"
   ]
  },
  {
   "cell_type": "code",
   "execution_count": 77,
   "metadata": {},
   "outputs": [
    {
     "data": {
      "text/plain": [
       "<matplotlib.axes._subplots.AxesSubplot at 0x10caf7748>"
      ]
     },
     "execution_count": 77,
     "metadata": {},
     "output_type": "execute_result"
    },
    {
     "data": {
      "image/png": "[encoded data removed]",
      "text/plain": [
       "<Figure size 432x288 with 1 Axes>"
      ]
     },
     "metadata": {
      "needs_background": "light"
     },
     "output_type": "display_data"
    }
   ],
   "source": [
    "# plot the distribution of the actual HPI_Rank\n",
    "sns.distplot(hpi.HPI_Rank)\n",
    "sns.distplot(hpi_calc)"
   ]
  },
  {
   "cell_type": "code",
   "execution_count": 67,
   "metadata": {},
   "outputs": [
    {
     "data": {
      "text/plain": [
       "count    140.000000\n",
       "mean      70.925407\n",
       "std        8.752559\n",
       "min       48.910000\n",
       "25%       65.035750\n",
       "50%       73.498000\n",
       "75%       77.024500\n",
       "max       83.572000\n",
       "Name: Average_Life_Expectancy, dtype: float64"
      ]
     },
     "execution_count": 67,
     "metadata": {},
     "output_type": "execute_result"
    }
   ],
   "source": [
    "hpi.Average_Life_Expectancy.describe()"
   ]
  },
  {
   "cell_type": "code",
   "execution_count": 68,
   "metadata": {},
   "outputs": [
    {
     "data": {
      "text/plain": [
       "<matplotlib.axes._subplots.AxesSubplot at 0x10d1932e8>"
      ]
     },
     "execution_count": 68,
     "metadata": {},
     "output_type": "execute_result"
    },
    {
     "data": {
      "image/png": "[encoded data removed]",
      "text/plain": [
       "<Figure size 432x288 with 1 Axes>"
      ]
     },
     "metadata": {
      "needs_background": "light"
     },
     "output_type": "display_data"
    }
   ],
   "source": [
    "sns.boxplot(hpi.Average_Life_Expectancy)"
   ]
  },
  {
   "cell_type": "code",
   "execution_count": null,
   "metadata": {},
   "outputs": [],
   "source": []
  }
 ],
 "metadata": {
  "kernelspec": {
   "display_name": "Python 3",
   "language": "python",
   "name": "python3"
  },
  "language_info": {
   "codemirror_mode": {
    "name": "ipython",
    "version": 3
   },
   "file_extension": ".py",
   "mimetype": "text/x-python",
   "name": "python",
   "nbconvert_exporter": "python",
   "pygments_lexer": "ipython3",
   "version": "3.7.3"
  }
 },
 "nbformat": 4,
 "nbformat_minor": 2
}
