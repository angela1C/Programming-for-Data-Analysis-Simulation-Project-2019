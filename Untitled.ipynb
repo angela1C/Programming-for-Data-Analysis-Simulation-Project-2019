{
 "cells": [
  {
   "cell_type": "markdown",
   "metadata": {},
   "source": [
    "# Programming for Data Analysis 2019 Project\n",
    "\n",
    "For this project you must create a data set by simulating a real-world phenomenon of your choosing. You may pick any phenomenon you wish – you might pick one that is of interest to you in your personal or professional life. Then, rather than collect data related to the phenomenon, you should model and synthesise such data using Python. We suggest you use the numpy.random package for this purpose.\n",
    "Specifically, in this project you should:\n",
    "- Choose a real-world phenomenon that can be measured and for which you could collect at least one-hundred data points across at least four different variables.\n",
    "- Investigate the types of variables involved, their likely distributions, and their relationships with each other.\n",
    "- Synthesise/simulate a data set as closely matching their properties as possible.\n",
    "- Detail your research and implement the simulation in a Jupyter notebook – the data set itself can simply be displayed in an output cell within the notebook.\n",
    "Note that this project is about simulation – you must synthesise a data set. Some students may already have some real-world data sets in their own files. It is okay to base your synthesised data set on these should you wish (please reference it if you do), but the main task in this project is to create a synthesised data set. \n",
    "\n"
   ]
  },
  {
   "cell_type": "markdown",
   "metadata": {},
   "source": [
    "# Table of Contents"
   ]
  },
  {
   "cell_type": "markdown",
   "metadata": {},
   "source": [
    "## Project overview\n",
    "\n",
    "This project is about simulation - a dataset must be synthesised by simulating a real-world phenomenon in python using the numpy.random package\n",
    "\n",
    "I am not yet sure what dataset I will synthesise. Possibly something in one of the research areas of the ERSI.\n",
    "\n",
    "<https://www.esri.ie/research-areas>\n",
    "\n",
    "### possibilities:\n",
    "\n",
    "- Health staus of the nation <https://www.cso.ie/en/releasesandpublications/ep/p-ihs/irishhealthsurvey2015/>\n",
    "- income and living conditions <https://www.cso.ie/en/csolatestnews/pressreleases/2018pressreleases/pressstatementsurveyonincomeandlivingconditionssilc2017results/>\n",
    "- Equality <https://www.cso.ie/en/statistics/surveys/qnhsmoduleonequality/>\n",
    "\n",
    "- Household crime <https://www.cso.ie/en/statistics/surveys/qnhscrimeandvictimisation/>\n",
    "\n",
    "- Higher education outcomes <https://www.cso.ie/en/releasesandpublications/ep/p-heo/highereducationoutcomes-graduationyears2010-2016/>\n",
    "\n",
    "https://www.cso.ie/en/statistics/socialconditions/surveyonincomeandlivingconditionssilc/\n",
    "\n",
    "- homelessness in Ireland <https://www.cso.ie/en/census/census2011reports/homelesspersonsinirelandaspecialcensus2011report/>\n",
    "\n",
    "- Measuring Ireland's progress <https://www.cso.ie/en/releasesandpublications/ep/p-mip/measuringirelandsprogress2017/>\n",
    "\n",
    "- Road safety statistics <https://statbank.cso.ie/px/pxeirestat/Database/eirestat/Road%20Safety%20Statistics/Road%20Safety%20Statistics_statbank.asp?SP=Road%20Safety%20Statistics&Planguage=0&ProductID=DB_RSA>\n",
    "\n",
    " - Residential property price index. <https://www.cso.ie/en/statistics/prices/residentialpropertypriceindex/>\n",
    " - House prices <https://www.esri.ie/system/files/media/file-uploads/2017-11/QEC2017WIN_SA_McQuinn.pdf>\n",
    " \n",
    " "
   ]
  },
  {
   "cell_type": "markdown",
   "metadata": {},
   "source": [
    "## Project Plan"
   ]
  },
  {
   "cell_type": "markdown",
   "metadata": {},
   "source": [
    "## About this notebook and the python libraries used in it"
   ]
  },
  {
   "cell_type": "markdown",
   "metadata": {},
   "source": [
    "## - Choose a real-world phenomenon that can be measured and for which you could collect at least one-hundred data points across at least four different variables."
   ]
  },
  {
   "cell_type": "markdown",
   "metadata": {},
   "source": [
    "## Investigate the types of variables involved, their likely distributions, and their relationships with each other."
   ]
  },
  {
   "cell_type": "markdown",
   "metadata": {},
   "source": [
    "## Synthesise/simulate a data set as closely matching their properties as possible."
   ]
  },
  {
   "cell_type": "markdown",
   "metadata": {},
   "source": [
    "## Detail your research and implement the simulation in a Jupyter notebook – the data set itself can simply be displayed in an output cell within the notebook."
   ]
  },
  {
   "cell_type": "code",
   "execution_count": null,
   "metadata": {},
   "outputs": [],
   "source": []
  }
 ],
 "metadata": {
  "kernelspec": {
   "display_name": "Python 3",
   "language": "python",
   "name": "python3"
  },
  "language_info": {
   "codemirror_mode": {
    "name": "ipython",
    "version": 3
   },
   "file_extension": ".py",
   "mimetype": "text/x-python",
   "name": "python",
   "nbconvert_exporter": "python",
   "pygments_lexer": "ipython3",
   "version": "3.7.3"
  }
 },
 "nbformat": 4,
 "nbformat_minor": 2
}
