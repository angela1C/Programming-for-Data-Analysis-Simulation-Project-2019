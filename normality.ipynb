{
 "cells": [
  {
   "cell_type": "markdown",
   "metadata": {},
   "source": [
    "# Testing for Normality\n",
    "\n",
    "- <http://abacus.bates.edu/~ganderso/biology/bio270/homework_files/Data_Transformation.pdf>\n",
    "\n",
    "-<https://www.statisticshowto.datasciencecentral.com/probability-and-statistics/skewed-distribution/>\n"
   ]
  },
  {
   "cell_type": "code",
   "execution_count": 3,
   "metadata": {},
   "outputs": [
    {
     "name": "stdout",
     "output_type": "stream",
     "text": [
      "NumPy version 1.16.2 pandas version  0.24.2 seaborn version 0.9.0\n"
     ]
    }
   ],
   "source": [
    "# import libraries using common alias names\n",
    "import numpy as np\n",
    "import pandas as pd\n",
    "import seaborn as sns\n",
    "import matplotlib.pyplot as plt\n",
    "\n",
    "# check what version of packages are installed.\n",
    "print(\"NumPy version\",np.__version__, \"pandas version \",pd.__version__, \"seaborn version\",sns.__version__  )  # '1.16.2'\n",
    "\n",
    "# set print options with floating point precision if 4, summarise long arrays using threshold of 5, suppress small results\n",
    "np.set_printoptions(precision=4, threshold=5, suppress=True)  # set floating point precision to 4\n",
    "pd.options.display.max_rows=8 # set options to display max number of rows"
   ]
  },
  {
   "cell_type": "code",
   "execution_count": null,
   "metadata": {},
   "outputs": [],
   "source": []
  },
  {
   "cell_type": "code",
   "execution_count": 4,
   "metadata": {},
   "outputs": [],
   "source": [
    "hpi_names=('HPI_Rank','Country','Region','Average_Life_Expectancy','Average_Wellbeing','Happy_Life_Years','Footprint','Inequality_of_Outcomes', 'IA_LifeExpectancy','IA_Wellbeing','HPI_Index','GDPpercapita','Population','GINI_Index')"
   ]
  },
  {
   "cell_type": "code",
   "execution_count": 5,
   "metadata": {},
   "outputs": [
    {
     "data": {
      "text/html": [
       "<div>\n",
       "<style scoped>\n",
       "    .dataframe tbody tr th:only-of-type {\n",
       "        vertical-align: middle;\n",
       "    }\n",
       "\n",
       "    .dataframe tbody tr th {\n",
       "        vertical-align: top;\n",
       "    }\n",
       "\n",
       "    .dataframe thead th {\n",
       "        text-align: right;\n",
       "    }\n",
       "</style>\n",
       "<table border=\"1\" class=\"dataframe\">\n",
       "  <thead>\n",
       "    <tr style=\"text-align: right;\">\n",
       "      <th></th>\n",
       "      <th>HPI_Rank</th>\n",
       "      <th>Country</th>\n",
       "      <th>Region</th>\n",
       "      <th>Average_Life_Expectancy</th>\n",
       "      <th>Average_Wellbeing</th>\n",
       "      <th>Happy_Life_Years</th>\n",
       "      <th>Footprint</th>\n",
       "      <th>Inequality_of_Outcomes</th>\n",
       "      <th>IA_LifeExpectancy</th>\n",
       "      <th>IA_Wellbeing</th>\n",
       "      <th>HPI_Index</th>\n",
       "      <th>GDPpercapita</th>\n",
       "      <th>Population</th>\n",
       "      <th>GINI_Index</th>\n",
       "    </tr>\n",
       "  </thead>\n",
       "  <tbody>\n",
       "    <tr>\n",
       "      <th>0</th>\n",
       "      <td>110</td>\n",
       "      <td>Afghanistan</td>\n",
       "      <td>Middle East and North Africa</td>\n",
       "      <td>59.668</td>\n",
       "      <td>3.8</td>\n",
       "      <td>12.396024</td>\n",
       "      <td>0.79</td>\n",
       "      <td>0.426557</td>\n",
       "      <td>38.348818</td>\n",
       "      <td>3.390494</td>\n",
       "      <td>20.225350</td>\n",
       "      <td>690.842629</td>\n",
       "      <td>29726803</td>\n",
       "      <td>Data unavailable</td>\n",
       "    </tr>\n",
       "    <tr>\n",
       "      <th>1</th>\n",
       "      <td>13</td>\n",
       "      <td>Albania</td>\n",
       "      <td>Post-communist</td>\n",
       "      <td>77.347</td>\n",
       "      <td>5.5</td>\n",
       "      <td>34.414736</td>\n",
       "      <td>2.21</td>\n",
       "      <td>0.165134</td>\n",
       "      <td>69.671159</td>\n",
       "      <td>5.097650</td>\n",
       "      <td>36.766874</td>\n",
       "      <td>4247.485437</td>\n",
       "      <td>2900489</td>\n",
       "      <td>28.96</td>\n",
       "    </tr>\n",
       "    <tr>\n",
       "      <th>2</th>\n",
       "      <td>30</td>\n",
       "      <td>Algeria</td>\n",
       "      <td>Middle East and North Africa</td>\n",
       "      <td>74.313</td>\n",
       "      <td>5.6</td>\n",
       "      <td>30.469461</td>\n",
       "      <td>2.12</td>\n",
       "      <td>0.244862</td>\n",
       "      <td>60.474545</td>\n",
       "      <td>5.196449</td>\n",
       "      <td>33.300543</td>\n",
       "      <td>5583.616160</td>\n",
       "      <td>37439427</td>\n",
       "      <td>Data unavailable</td>\n",
       "    </tr>\n",
       "    <tr>\n",
       "      <th>3</th>\n",
       "      <td>19</td>\n",
       "      <td>Argentina</td>\n",
       "      <td>Americas</td>\n",
       "      <td>75.927</td>\n",
       "      <td>6.5</td>\n",
       "      <td>40.166674</td>\n",
       "      <td>3.14</td>\n",
       "      <td>0.164238</td>\n",
       "      <td>68.349583</td>\n",
       "      <td>6.034707</td>\n",
       "      <td>35.190244</td>\n",
       "      <td>14357.411589</td>\n",
       "      <td>42095224</td>\n",
       "      <td>42.49</td>\n",
       "    </tr>\n",
       "    <tr>\n",
       "      <th>4</th>\n",
       "      <td>73</td>\n",
       "      <td>Armenia</td>\n",
       "      <td>Post-communist</td>\n",
       "      <td>74.446</td>\n",
       "      <td>4.3</td>\n",
       "      <td>24.018760</td>\n",
       "      <td>2.23</td>\n",
       "      <td>0.216648</td>\n",
       "      <td>66.921682</td>\n",
       "      <td>3.747140</td>\n",
       "      <td>25.666417</td>\n",
       "      <td>3565.517575</td>\n",
       "      <td>2978339</td>\n",
       "      <td>30.48</td>\n",
       "    </tr>\n",
       "  </tbody>\n",
       "</table>\n",
       "</div>"
      ],
      "text/plain": [
       "   HPI_Rank      Country                        Region  \\\n",
       "0       110  Afghanistan  Middle East and North Africa   \n",
       "1        13      Albania                Post-communist   \n",
       "2        30      Algeria  Middle East and North Africa   \n",
       "3        19    Argentina                      Americas   \n",
       "4        73      Armenia                Post-communist   \n",
       "\n",
       "   Average_Life_Expectancy  Average_Wellbeing  Happy_Life_Years  Footprint  \\\n",
       "0                   59.668                3.8         12.396024       0.79   \n",
       "1                   77.347                5.5         34.414736       2.21   \n",
       "2                   74.313                5.6         30.469461       2.12   \n",
       "3                   75.927                6.5         40.166674       3.14   \n",
       "4                   74.446                4.3         24.018760       2.23   \n",
       "\n",
       "   Inequality_of_Outcomes  IA_LifeExpectancy  IA_Wellbeing  HPI_Index  \\\n",
       "0                0.426557          38.348818      3.390494  20.225350   \n",
       "1                0.165134          69.671159      5.097650  36.766874   \n",
       "2                0.244862          60.474545      5.196449  33.300543   \n",
       "3                0.164238          68.349583      6.034707  35.190244   \n",
       "4                0.216648          66.921682      3.747140  25.666417   \n",
       "\n",
       "   GDPpercapita  Population        GINI_Index  \n",
       "0    690.842629    29726803  Data unavailable  \n",
       "1   4247.485437     2900489             28.96  \n",
       "2   5583.616160    37439427  Data unavailable  \n",
       "3  14357.411589    42095224             42.49  \n",
       "4   3565.517575     2978339             30.48  "
      ]
     },
     "execution_count": 5,
     "metadata": {},
     "output_type": "execute_result"
    }
   ],
   "source": [
    "# read in the csv file:\n",
    "hpi16 = pd.read_csv('HappyPlanet16.csv', index_col=0, names=hpi_names, header=0)\n",
    "hpi16.head()"
   ]
  },
  {
   "cell_type": "code",
   "execution_count": null,
   "metadata": {},
   "outputs": [],
   "source": []
  },
  {
   "cell_type": "code",
   "execution_count": null,
   "metadata": {},
   "outputs": [],
   "source": []
  },
  {
   "cell_type": "code",
   "execution_count": 115,
   "metadata": {},
   "outputs": [],
   "source": [
    "x= hpi16['Average_Life_Expectancy']"
   ]
  },
  {
   "cell_type": "code",
   "execution_count": 116,
   "metadata": {},
   "outputs": [
    {
     "data": {
      "text/plain": [
       "0      59.668\n",
       "1      77.347\n",
       "2      74.313\n",
       "3      75.927\n",
       "        ...  \n",
       "136    75.477\n",
       "137    63.340\n",
       "138    58.409\n",
       "139    53.673\n",
       "Name: Average_Life_Expectancy, Length: 140, dtype: float64"
      ]
     },
     "execution_count": 116,
     "metadata": {},
     "output_type": "execute_result"
    }
   ],
   "source": [
    "x"
   ]
  },
  {
   "cell_type": "code",
   "execution_count": 119,
   "metadata": {},
   "outputs": [
    {
     "data": {
      "text/plain": [
       "84.572"
      ]
     },
     "execution_count": 119,
     "metadata": {},
     "output_type": "execute_result"
    }
   ],
   "source": [
    "k = x.max()+1\n",
    "k"
   ]
  },
  {
   "cell_type": "code",
   "execution_count": 121,
   "metadata": {},
   "outputs": [
    {
     "data": {
      "text/plain": [
       "<matplotlib.axes._subplots.AxesSubplot at 0x1a2715c320>"
      ]
     },
     "execution_count": 121,
     "metadata": {},
     "output_type": "execute_result"
    },
    {
     "data": {
      "image/png": "[encoded data removed]",
      "text/plain": [
       "<Figure size 432x288 with 1 Axes>"
      ]
     },
     "metadata": {
      "needs_background": "light"
     },
     "output_type": "display_data"
    }
   ],
   "source": [
    "sns.distplot(np.log10(k-x))"
   ]
  },
  {
   "cell_type": "markdown",
   "metadata": {},
   "source": [
    "# Testing for Normality"
   ]
  },
  {
   "cell_type": "code",
   "execution_count": 6,
   "metadata": {},
   "outputs": [
    {
     "data": {
      "text/html": [
       "<div>\n",
       "<style scoped>\n",
       "    .dataframe tbody tr th:only-of-type {\n",
       "        vertical-align: middle;\n",
       "    }\n",
       "\n",
       "    .dataframe tbody tr th {\n",
       "        vertical-align: top;\n",
       "    }\n",
       "\n",
       "    .dataframe thead th {\n",
       "        text-align: right;\n",
       "    }\n",
       "</style>\n",
       "<table border=\"1\" class=\"dataframe\">\n",
       "  <thead>\n",
       "    <tr style=\"text-align: right;\">\n",
       "      <th></th>\n",
       "      <th>HPI_Rank</th>\n",
       "      <th>Country</th>\n",
       "      <th>Region</th>\n",
       "      <th>Average_Life_Expectancy</th>\n",
       "      <th>Average_Wellbeing</th>\n",
       "      <th>Happy_Life_Years</th>\n",
       "      <th>Footprint</th>\n",
       "      <th>Inequality_of_Outcomes</th>\n",
       "      <th>IA_LifeExpectancy</th>\n",
       "      <th>IA_Wellbeing</th>\n",
       "      <th>HPI_Index</th>\n",
       "      <th>GDPpercapita</th>\n",
       "      <th>Population</th>\n",
       "      <th>GINI_Index</th>\n",
       "    </tr>\n",
       "  </thead>\n",
       "  <tbody>\n",
       "    <tr>\n",
       "      <th>0</th>\n",
       "      <td>110</td>\n",
       "      <td>Afghanistan</td>\n",
       "      <td>Middle East and North Africa</td>\n",
       "      <td>59.668</td>\n",
       "      <td>3.8</td>\n",
       "      <td>12.396024</td>\n",
       "      <td>0.79</td>\n",
       "      <td>0.426557</td>\n",
       "      <td>38.348818</td>\n",
       "      <td>3.390494</td>\n",
       "      <td>20.225350</td>\n",
       "      <td>690.842629</td>\n",
       "      <td>29726803</td>\n",
       "      <td>Data unavailable</td>\n",
       "    </tr>\n",
       "    <tr>\n",
       "      <th>1</th>\n",
       "      <td>13</td>\n",
       "      <td>Albania</td>\n",
       "      <td>Post-communist</td>\n",
       "      <td>77.347</td>\n",
       "      <td>5.5</td>\n",
       "      <td>34.414736</td>\n",
       "      <td>2.21</td>\n",
       "      <td>0.165134</td>\n",
       "      <td>69.671159</td>\n",
       "      <td>5.097650</td>\n",
       "      <td>36.766874</td>\n",
       "      <td>4247.485437</td>\n",
       "      <td>2900489</td>\n",
       "      <td>28.96</td>\n",
       "    </tr>\n",
       "    <tr>\n",
       "      <th>2</th>\n",
       "      <td>30</td>\n",
       "      <td>Algeria</td>\n",
       "      <td>Middle East and North Africa</td>\n",
       "      <td>74.313</td>\n",
       "      <td>5.6</td>\n",
       "      <td>30.469461</td>\n",
       "      <td>2.12</td>\n",
       "      <td>0.244862</td>\n",
       "      <td>60.474545</td>\n",
       "      <td>5.196449</td>\n",
       "      <td>33.300543</td>\n",
       "      <td>5583.616160</td>\n",
       "      <td>37439427</td>\n",
       "      <td>Data unavailable</td>\n",
       "    </tr>\n",
       "    <tr>\n",
       "      <th>3</th>\n",
       "      <td>19</td>\n",
       "      <td>Argentina</td>\n",
       "      <td>Americas</td>\n",
       "      <td>75.927</td>\n",
       "      <td>6.5</td>\n",
       "      <td>40.166674</td>\n",
       "      <td>3.14</td>\n",
       "      <td>0.164238</td>\n",
       "      <td>68.349583</td>\n",
       "      <td>6.034707</td>\n",
       "      <td>35.190244</td>\n",
       "      <td>14357.411589</td>\n",
       "      <td>42095224</td>\n",
       "      <td>42.49</td>\n",
       "    </tr>\n",
       "    <tr>\n",
       "      <th>4</th>\n",
       "      <td>73</td>\n",
       "      <td>Armenia</td>\n",
       "      <td>Post-communist</td>\n",
       "      <td>74.446</td>\n",
       "      <td>4.3</td>\n",
       "      <td>24.018760</td>\n",
       "      <td>2.23</td>\n",
       "      <td>0.216648</td>\n",
       "      <td>66.921682</td>\n",
       "      <td>3.747140</td>\n",
       "      <td>25.666417</td>\n",
       "      <td>3565.517575</td>\n",
       "      <td>2978339</td>\n",
       "      <td>30.48</td>\n",
       "    </tr>\n",
       "  </tbody>\n",
       "</table>\n",
       "</div>"
      ],
      "text/plain": [
       "   HPI_Rank      Country                        Region  \\\n",
       "0       110  Afghanistan  Middle East and North Africa   \n",
       "1        13      Albania                Post-communist   \n",
       "2        30      Algeria  Middle East and North Africa   \n",
       "3        19    Argentina                      Americas   \n",
       "4        73      Armenia                Post-communist   \n",
       "\n",
       "   Average_Life_Expectancy  Average_Wellbeing  Happy_Life_Years  Footprint  \\\n",
       "0                   59.668                3.8         12.396024       0.79   \n",
       "1                   77.347                5.5         34.414736       2.21   \n",
       "2                   74.313                5.6         30.469461       2.12   \n",
       "3                   75.927                6.5         40.166674       3.14   \n",
       "4                   74.446                4.3         24.018760       2.23   \n",
       "\n",
       "   Inequality_of_Outcomes  IA_LifeExpectancy  IA_Wellbeing  HPI_Index  \\\n",
       "0                0.426557          38.348818      3.390494  20.225350   \n",
       "1                0.165134          69.671159      5.097650  36.766874   \n",
       "2                0.244862          60.474545      5.196449  33.300543   \n",
       "3                0.164238          68.349583      6.034707  35.190244   \n",
       "4                0.216648          66.921682      3.747140  25.666417   \n",
       "\n",
       "   GDPpercapita  Population        GINI_Index  \n",
       "0    690.842629    29726803  Data unavailable  \n",
       "1   4247.485437     2900489             28.96  \n",
       "2   5583.616160    37439427  Data unavailable  \n",
       "3  14357.411589    42095224             42.49  \n",
       "4   3565.517575     2978339             30.48  "
      ]
     },
     "execution_count": 6,
     "metadata": {},
     "output_type": "execute_result"
    }
   ],
   "source": [
    "hpi16.head()"
   ]
  },
  {
   "cell_type": "code",
   "execution_count": 42,
   "metadata": {},
   "outputs": [],
   "source": [
    "x= hpi16['Population']"
   ]
  },
  {
   "cell_type": "code",
   "execution_count": 43,
   "metadata": {},
   "outputs": [
    {
     "data": {
      "image/png": "[encoded data removed]",
      "text/plain": [
       "<Figure size 432x288 with 1 Axes>"
      ]
     },
     "metadata": {
      "needs_background": "light"
     },
     "output_type": "display_data"
    }
   ],
   "source": [
    "\n",
    "from numpy.random import seed\n",
    "from numpy.random import randn\n",
    "from statsmodels.graphics.gofplots import qqplot\n",
    "from matplotlib import pyplot\n",
    "# seed the random number generator\n",
    "seed(1)\n",
    "# generate univariate observations\n",
    "# data = 5 * randn(100) + 50\n",
    "data= x\n",
    "# q-q plot\n",
    "qqplot(data, line='s')\n",
    "pyplot.show()"
   ]
  },
  {
   "cell_type": "code",
   "execution_count": 44,
   "metadata": {},
   "outputs": [
    {
     "data": {
      "image/png": "[encoded data removed]",
      "text/plain": [
       "<Figure size 432x288 with 1 Axes>"
      ]
     },
     "execution_count": 44,
     "metadata": {},
     "output_type": "execute_result"
    },
    {
     "data": {
      "image/png": "[encoded data removed]",
      "text/plain": [
       "<Figure size 432x288 with 1 Axes>"
      ]
     },
     "metadata": {
      "needs_background": "light"
     },
     "output_type": "display_data"
    }
   ],
   "source": [
    "qqplot(data, line='s')"
   ]
  },
  {
   "cell_type": "code",
   "execution_count": 45,
   "metadata": {},
   "outputs": [
    {
     "name": "stdout",
     "output_type": "stream",
     "text": [
      "Statistics=0.259, p=0.000\n",
      "Sample does not look Gaussian (reject H0)\n"
     ]
    }
   ],
   "source": [
    "# Shapiro-Wilk Test\n",
    "from numpy.random import seed\n",
    "from numpy.random import randn\n",
    "from scipy.stats import shapiro\n",
    "# seed the random number generator\n",
    "seed(1)\n",
    "# generate univariate observations\n",
    "#data = 5 * randn(100) + 50\n",
    "\n",
    "# normality test\n",
    "stat, p = shapiro(data)\n",
    "print('Statistics=%.3f, p=%.3f' % (stat, p))\n",
    "# interpret\n",
    "alpha = 0.05\n",
    "if p > alpha:\n",
    "\tprint('Sample looks Gaussian (fail to reject H0)')\n",
    "else:\n",
    "\tprint('Sample does not look Gaussian (reject H0)')\n"
   ]
  },
  {
   "cell_type": "code",
   "execution_count": 46,
   "metadata": {},
   "outputs": [
    {
     "name": "stdout",
     "output_type": "stream",
     "text": [
      "Statistics=227.985, p=0.000\n",
      "Sample does not look Gaussian (reject H0)\n"
     ]
    }
   ],
   "source": [
    "# D'Agostino and Pearson's Test\n",
    "from numpy.random import seed\n",
    "from numpy.random import randn\n",
    "from scipy.stats import normaltest\n",
    "# seed the random number generator\n",
    "seed(1)\n",
    "# generate univariate observations\n",
    "#data = 5 * randn(100) + 50\n",
    "data =x\n",
    "# normality test\n",
    "stat, p = normaltest(data)\n",
    "print('Statistics=%.3f, p=%.3f' % (stat, p))\n",
    "# interpret\n",
    "alpha = 0.05\n",
    "if p > alpha:\n",
    "\tprint('Sample looks Gaussian (fail to reject H0)')\n",
    "else:\n",
    "\tprint('Sample does not look Gaussian (reject H0)')"
   ]
  },
  {
   "cell_type": "code",
   "execution_count": 47,
   "metadata": {},
   "outputs": [
    {
     "name": "stdout",
     "output_type": "stream",
     "text": [
      "Statistic: 33.476\n",
      "15.000: 0.561, data does not look normal (reject H0)\n",
      "10.000: 0.639, data does not look normal (reject H0)\n",
      "5.000: 0.766, data does not look normal (reject H0)\n",
      "2.500: 0.894, data does not look normal (reject H0)\n",
      "1.000: 1.063, data does not look normal (reject H0)\n"
     ]
    }
   ],
   "source": [
    "# Anderson-Darling Test\n",
    "from numpy.random import seed\n",
    "from numpy.random import randn\n",
    "from scipy.stats import anderson\n",
    "# seed the random number generator\n",
    "seed(1)\n",
    "# generate univariate observations\n",
    "#data = 5 * randn(100) + 50\n",
    "data=x\n",
    "# normality test\n",
    "result = anderson(data)\n",
    "print('Statistic: %.3f' % result.statistic)\n",
    "p = 0\n",
    "for i in range(len(result.critical_values)):\n",
    "    sl, cv = result.significance_level[i], result.critical_values[i]\n",
    "    if result.statistic < result.critical_values[i]:\n",
    "        print('%.3f: %.3f, data looks normal (fail to reject H0)' % (sl, cv))\n",
    "    else:\n",
    "        print('%.3f: %.3f, data does not look normal (reject H0)' % (sl, cv))\n"
   ]
  },
  {
   "cell_type": "code",
   "execution_count": null,
   "metadata": {},
   "outputs": [],
   "source": []
  },
  {
   "cell_type": "code",
   "execution_count": null,
   "metadata": {},
   "outputs": [],
   "source": []
  }
 ],
 "metadata": {
  "kernelspec": {
   "display_name": "Python 3",
   "language": "python",
   "name": "python3"
  },
  "language_info": {
   "codemirror_mode": {
    "name": "ipython",
    "version": 3
   },
   "file_extension": ".py",
   "mimetype": "text/x-python",
   "name": "python",
   "nbconvert_exporter": "python",
   "pygments_lexer": "ipython3",
   "version": "3.7.3"
  }
 },
 "nbformat": 4,
 "nbformat_minor": 2
}
