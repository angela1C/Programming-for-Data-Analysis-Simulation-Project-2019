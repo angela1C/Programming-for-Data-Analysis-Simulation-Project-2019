{
 "cells": [
  {
   "cell_type": "markdown",
   "metadata": {},
   "source": [
    "# Programming for Data Analysis 2019 Project\n",
    "\n",
    "For this project you must create a data set by simulating a real-world phenomenon of your choosing. You may pick any phenomenon you wish – you might pick one that is of interest to you in your personal or professional life. Then, rather than collect data related to the phenomenon, you should model and synthesise such data using Python. We suggest you use the numpy.random package for this purpose.\n",
    "Specifically, in this project you should:\n",
    "- Choose a real-world phenomenon that can be measured and for which you could collect at least one-hundred data points across at least four different variables.\n",
    "- Investigate the types of variables involved, their likely distributions, and their relationships with each other.\n",
    "- Synthesise/simulate a data set as closely matching their properties as possible.\n",
    "- Detail your research and implement the simulation in a Jupyter notebook – the data set itself can simply be displayed in an output cell within the notebook.\n",
    "Note that this project is about simulation – you must synthesise a data set. Some students may already have some real-world data sets in their own files. It is okay to base your synthesised data set on these should you wish (please reference it if you do), but the main task in this project is to create a synthesised data set. \n",
    "\n"
   ]
  },
  {
   "cell_type": "code",
   "execution_count": null,
   "metadata": {},
   "outputs": [],
   "source": []
  },
  {
   "cell_type": "markdown",
   "metadata": {},
   "source": [
    "# Table of Contents"
   ]
  },
  {
   "cell_type": "markdown",
   "metadata": {},
   "source": [
    "## Project overview\n",
    "\n",
    "This project is about simulation - a dataset must be synthesised by simulating a real-world phenomenon in python using the numpy.random package\n",
    "\n",
    "I am not yet sure what dataset I will synthesise. Possibly something in one of the research areas of the ERSI or in health. My family was surveyed for a national growing up in Ireland study so this might be of interest. Childrens health is something I am personally interested in now as a parent.\n",
    "\n",
    "<https://www.esri.ie/research-areas>\n",
    "\n",
    "### possibilities:\n",
    "\n",
    "- Health staus of the nation <https://www.cso.ie/en/releasesandpublications/ep/p-ihs/irishhealthsurvey2015/>\n",
    "\n",
    ">The first release of the Irish Health Survey provides data on various aspects of health. These include data on the health status of the population, the health care usage of the population, and the health determinants of the population. This survey also allows for the comparison of these figures with other EU countries through the use of a consistent methodology. Some of the key findings of the survey are;\n",
    "83% of the population aged 15 and over report their health as good or very good\n",
    "32% of the population aged 15 and over reported that they have a long standing illness or health problem\n",
    "The three most commonly reported health conditions were chronic back defects (19%), high blood pressure (16%), and allergies such as rhinitis, eye inflammation, dermatitis, food allergies or other allergies, excluding allergic asthma (14%)\n",
    "8% of the population have reported symptoms of at least moderate depression in the two weeks prior to interview\n",
    "The average annual number of GP visits was 6.2 per person\n",
    "22% of the population smoke\n",
    "81% of the population drink alcohol\n",
    "53% of the population are overweight or obese\n",
    "\n",
    "\n",
    "- income and living conditions <https://www.cso.ie/en/csolatestnews/pressreleases/2018pressreleases/pressstatementsurveyonincomeandlivingconditionssilc2017results/>\n",
    "\n",
    ">DEPRIVATION AND CONSISTENT POVERTY RATES DECREASED IN 2017\n",
    "At risk of poverty rate 15.7%\n",
    "Enforced deprivation rate 18.8%\n",
    "Consistent poverty rate 6.7%\n",
    "\n",
    "- Equality <https://www.cso.ie/en/statistics/surveys/qnhsmoduleonequality/>\n",
    "\n",
    "- Household crime <https://www.cso.ie/en/statistics/surveys/qnhscrimeandvictimisation/>\n",
    "\n",
    "- Higher education outcomes <https://www.cso.ie/en/releasesandpublications/ep/p-heo/highereducationoutcomes-graduationyears2010-2016/>\n",
    "might not be enough variables for this assignment. main variables are sex and area\n",
    "\n",
    "https://www.cso.ie/en/statistics/socialconditions/surveyonincomeandlivingconditionssilc/\n",
    "\n",
    "- homelessness in Ireland <https://www.cso.ie/en/census/census2011reports/homelesspersonsinirelandaspecialcensus2011report/>\n",
    "data on homeless persons by age group and sex\n",
    "marital status, nationality, ethnicity and religion, economic status, educational attainment, general health, disabilities\n",
    "\n",
    "- Measuring Ireland's progress <https://www.cso.ie/en/releasesandpublications/ep/p-mip/measuringirelandsprogress2017/>\n",
    "this has a lot of information but I don't if it can be considered a real world phenomenon for this project. \n",
    "\n",
    ">The progress indicators used in this report provide an overall view of the social, economic, environment, education and health situation in Ireland. \n",
    "\n",
    "\n",
    "- Road safety statistics <https://statbank.cso.ie/px/pxeirestat/Database/eirestat/Road%20Safety%20Statistics/Road%20Safety%20Statistics_statbank.asp?SP=Road%20Safety%20Statistics&Planguage=0&ProductID=DB_RSA>\n",
    "\n",
    " - Residential property price index. <https://www.cso.ie/en/statistics/prices/residentialpropertypriceindex/>\n",
    " - House prices <https://www.esri.ie/system/files/media/file-uploads/2017-11/QEC2017WIN_SA_McQuinn.pdf>\n",
    " \n",
    " - gapminder data\n",
    " \n",
    " - growing up in ireland survey results\n",
    " - https://www.esri.ie/growing-up-in-ireland\n",
    " -<https://www.esri.ie/system/files/media/file-uploads/2018-11/SUSTAT69.pdf>\n",
    " - rolo study\n",
    " \n",
    " - https://www.gov.ie/en/publication/612079-healthy-ireland-survey-2018/\n",
    " \n",
    " - https://www.iuna.net\n",
    " \n",
    " https://www.oecd-ilibrary.org/social-issues-migration-health/ireland-country-health-profile-2017_9789264283435-en\n",
    " \n",
    " - Healthy Ireland summary report 2019 <https://assets.gov.ie/41141/e5d6fea3a59a4720b081893e11fe299e.pdf>\n",
    " - Health Ireland summary documents <https://www.gov.ie/en/collection/231c02-healthy-ireland-survey-wave/>\n",
    " \n"
   ]
  },
  {
   "cell_type": "markdown",
   "metadata": {},
   "source": [
    "The National Children’s Food Survey II looks at Food and Nutrient Intakes, Body Weight, Physical Activity and Eating Behaviours in Children Aged 5-12 Years in Ireland. I could look at the body weight of the children surveyed using the other variables.\n",
    "Overall this survey found that \n",
    "> Overall, the majority (78%) of children were within the normal weight range, while 16% (boys 14%, girls 19%) were classified as overweight or obese. The prevalence of overweight and obesity was lower than in the NCFS (2003-04) when 25% of children (boys 19%, girls 30%) were classified as overweight or obese.\n",
    "\n",
    "### Physical Activity\n",
    ">Participation of children in physical activities is relatively high with an average of 81 minutes per day being physically active. A total of 69% of children achieved the recommended ‘at least 60 minutes’ of physical activity per day. Median daily time in sedentary behaviours was 254 minutes, with 86 minutes of screen time.\n",
    "\n",
    "### Eating Behaviours\n",
    ">The majority of parents (70%) found it sometimes difficult to provide a healthy diet for their child, with the main perceived barriers being: ‘the child’s likes or dislikes’ (64% of parents), ‘convenience’ (40%), ‘other people minding your child’ (39%) and ‘food advertising’ (34%)."
   ]
  },
  {
   "cell_type": "markdown",
   "metadata": {},
   "source": [
    "I started looking at the World Happiness Reports and did a bit of research here. "
   ]
  },
  {
   "cell_type": "markdown",
   "metadata": {},
   "source": [
    "## Project Plan"
   ]
  },
  {
   "cell_type": "markdown",
   "metadata": {},
   "source": [
    "General health of 9-year old in Ireland\n",
    "\n",
    "Weight status of a 9 year old in Ireland\n",
    "\n",
    "22% of boys overweight\n",
    "30% of girls overweight"
   ]
  },
  {
   "cell_type": "code",
   "execution_count": null,
   "metadata": {},
   "outputs": [],
   "source": []
  },
  {
   "cell_type": "code",
   "execution_count": 31,
   "metadata": {},
   "outputs": [],
   "source": [
    "import numpy as np\n",
    "import seaborn as sns\n",
    "import matplotlib.pyplot as plt"
   ]
  },
  {
   "cell_type": "markdown",
   "metadata": {},
   "source": [
    "Energy intake:\n",
    "n=600, mean = 1487, sd = 275"
   ]
  },
  {
   "cell_type": "code",
   "execution_count": 14,
   "metadata": {},
   "outputs": [
    {
     "data": {
      "text/plain": [
       "<matplotlib.axes._subplots.AxesSubplot at 0x1a255374e0>"
      ]
     },
     "execution_count": 14,
     "metadata": {},
     "output_type": "execute_result"
    },
    {
     "data": {
      "image/png": "[encoded data removed]",
      "text/plain": [
       "<Figure size 432x288 with 1 Axes>"
      ]
     },
     "metadata": {
      "needs_background": "light"
     },
     "output_type": "display_data"
    }
   ],
   "source": [
    "## Energy intake\n",
    "loc, scale, size = 1487, 275, 600\n",
    "energy = np.random.normal(loc,scale,size)\n",
    "sns.distplot(energy,label=\"$\\mu=1487kc,\\ \\sigma=275$\")"
   ]
  },
  {
   "cell_type": "markdown",
   "metadata": {},
   "source": [
    "## Body Weight and measurements of the children in the study\n",
    "<img src=\"Mean anthropometric measurements.png\" width=\"500\" align=\"left\" />\n"
   ]
  },
  {
   "cell_type": "markdown",
   "metadata": {},
   "source": [
    "#### Body Weight\n",
    "\n",
    "##### Total\n",
    "weight in kgs: n = 596 mean = 32.5 std = 11.4\n",
    "\n",
    "\n",
    "##### Boys\n",
    "weight in kgs: mean= 32.6, std = 10.5, n= 298\n",
    "loc,scale, size = 32.6, 10.5, 298\n",
    "\n",
    "##### Girls\n",
    "weight in kgs: mean= 32.5, std = 12.3, n= 298\n",
    "loc, scale, size = 32.5, 12.3, 298"
   ]
  },
  {
   "cell_type": "code",
   "execution_count": 33,
   "metadata": {},
   "outputs": [
    {
     "data": {
      "image/png": "[encoded data removed]",
      "text/plain": [
       "<Figure size 864x288 with 1 Axes>"
      ]
     },
     "metadata": {
      "needs_background": "light"
     },
     "output_type": "display_data"
    }
   ],
   "source": [
    "## Body Weight\n",
    "\n",
    "## total \n",
    "loc, scale, size = 32.5, 11.4, 596\n",
    "weight = np.random.normal(loc,scale,size)\n",
    "\n",
    "# boys\n",
    "loc,scale, size = 32.6, 10.5, 298\n",
    "weight_boys = np.random.normal(loc,scale,size)\n",
    "# girls\n",
    "loc, scale, size = 32.5, 12.3, 298\n",
    "weight_girls= np.random.normal(loc, scale, size)\n",
    "\n",
    "plt.figure(figsize=(12,4))  # set the size of the figure\n",
    "sns.distplot(weight,label=\"$total$\", kde=\"True\")\n",
    "sns.distplot(weight_boys,label=\"$boys$\")\n",
    "sns.distplot(weight_girls,label=\"$girls$\")\n",
    "\n",
    "plt.legend(loc=\"best\")\n",
    "#plt.ylim([-0.05, 0.6]) # set the plot limits on the y-axis\n",
    "plt.suptitle('Normal Distribution for weights of boys and girls')\n",
    "plt.grid(True)"
   ]
  },
  {
   "cell_type": "markdown",
   "metadata": {},
   "source": [
    "https://www.ncbi.nlm.nih.gov/pmc/articles/PMC4789291/"
   ]
  },
  {
   "cell_type": "markdown",
   "metadata": {},
   "source": [
    "### Age\n",
    "A sample of 600 children (300 boys, 300 girls) aged 5 to 12 years from across the Republic of Ireland took part in the NCFS II."
   ]
  },
  {
   "cell_type": "code",
   "execution_count": 26,
   "metadata": {},
   "outputs": [
    {
     "name": "stdout",
     "output_type": "stream",
     "text": [
      "(2, 300)\n"
     ]
    },
    {
     "data": {
      "text/plain": [
       "array([[11,  9,  7,  9,  7,  5, 10, 11,  5,  6,  5,  9,  7,  9,  7,  6,\n",
       "         5,  5, 10,  5, 10,  5,  5,  5,  6,  6, 10,  7, 10,  7, 11, 11,\n",
       "         9,  8,  8,  9,  6,  9,  8,  9, 12, 10, 10, 10,  8,  5, 11,  7,\n",
       "        10,  7,  6, 12,  7,  5, 10, 10, 12, 11,  9,  9,  6, 12,  5, 12,\n",
       "        10,  5, 12,  6, 11,  6, 10, 11,  5,  5,  6, 11,  6,  7,  9,  9,\n",
       "         9,  8, 12,  7,  7, 11,  5, 12,  5,  7, 12,  8, 10,  5,  8,  8,\n",
       "         6,  5,  7, 11,  5, 11, 10, 11, 10, 12, 10,  5,  5,  5,  6,  6,\n",
       "         9, 12, 11, 12,  7,  5, 10,  7, 11,  8,  6,  5, 11,  7, 10,  9,\n",
       "        11,  7,  5, 11,  7,  6, 11,  8, 12,  5,  9,  5, 12, 10, 12, 12,\n",
       "         9,  7,  7,  9, 10,  6, 12, 11, 12, 10, 10,  6, 12,  9,  9,  5,\n",
       "        11, 11, 12, 12, 12,  7, 11,  7, 12, 12, 12, 12,  8, 12, 10, 10,\n",
       "         9, 12,  8, 11, 12, 11,  7,  8,  9,  9, 12, 11, 11,  7,  9,  8,\n",
       "         6,  7,  8,  8,  9, 10,  5, 12,  7,  7, 12, 10,  8, 10,  9,  8,\n",
       "        10,  7, 10,  7,  5, 11, 12, 12, 11,  7,  6,  7,  5,  7,  9, 11,\n",
       "        10,  6, 11,  7,  5,  7,  6,  5, 12, 12,  7,  7, 11,  6, 11,  9,\n",
       "         5,  7,  9,  9, 12, 10,  8,  8,  6,  9, 10, 12,  5, 10, 11,  7,\n",
       "         8,  8,  5, 12,  7,  6,  6,  7,  9,  8,  6, 12,  7,  9, 11, 11,\n",
       "         9,  5,  5, 11,  9, 10,  7, 10,  9, 12,  8,  9, 12,  6,  8, 10,\n",
       "         8, 11,  6,  7, 11,  6,  9,  6,  6,  5, 12,  9],\n",
       "       [11, 10,  8,  8, 12,  5,  9,  5,  7, 11, 12, 12,  7,  6,  6,  9,\n",
       "        11,  8, 10, 10, 11, 10,  7,  6, 11,  8,  7, 11,  6,  9, 11,  7,\n",
       "         7,  8, 11,  6,  9,  6,  5,  8,  5,  9,  6, 12,  6,  7, 10, 12,\n",
       "        12, 12,  5,  6,  7,  9, 11,  9, 10, 10,  8,  6, 11,  5, 11,  7,\n",
       "         9,  9, 12,  7, 10,  8, 10,  6,  6, 10,  5, 11,  5,  7, 10,  9,\n",
       "         7, 10,  7,  7,  7,  5,  6, 11,  9,  6, 11,  5, 11, 10,  6,  8,\n",
       "         9, 11,  7,  7, 11,  9,  5,  6,  5,  8,  6,  8, 10,  9,  5, 12,\n",
       "         6, 12, 12,  5,  5,  6, 10, 12,  7,  9,  8,  5,  5,  7,  7,  7,\n",
       "         8,  5,  5, 10, 12,  5,  7, 10,  7,  7,  5, 10, 10, 10,  8, 11,\n",
       "        12,  8,  8,  9, 10, 11, 11,  6,  7,  9,  7,  6,  7,  6,  8,  8,\n",
       "         8, 12, 12,  7,  6,  8,  7, 12,  7,  5, 12,  6, 11,  9,  5, 12,\n",
       "         5, 11, 10, 12,  7,  8,  9, 12, 12, 11,  8,  6, 11,  7,  6, 12,\n",
       "         9,  9, 11,  8, 11,  7,  8,  5, 11,  9,  8,  6,  5,  8,  9,  6,\n",
       "         5, 11, 11,  5,  6, 12, 10,  6,  5,  7, 11, 11, 10,  8,  9,  8,\n",
       "         8, 11,  5, 11,  8,  5,  5,  5, 11,  7, 10,  7,  7, 11, 11,  5,\n",
       "         5, 10,  7,  8,  7, 12,  5, 12, 12, 10,  8,  6, 11,  8, 12, 12,\n",
       "         9,  5,  7,  7, 12, 12,  5,  9,  7,  5,  5,  6,  7,  9,  7,  5,\n",
       "        11,  5, 12, 10,  5,  7,  8,  5, 11,  6,  6,  7,  5,  8,  7,  7,\n",
       "         9,  7, 10,  6,  7,  9,  5,  8,  9,  6, 10,  5]])"
      ]
     },
     "execution_count": 26,
     "metadata": {},
     "output_type": "execute_result"
    }
   ],
   "source": [
    "age = np.random.randint(5,13,(2,300)) # a 3-d array with 24 values from range [5,13)\n",
    "np.ndim(age)\n",
    "print(np.shape(age))\n",
    "age"
   ]
  },
  {
   "cell_type": "markdown",
   "metadata": {},
   "source": [
    "### Sex"
   ]
  },
  {
   "cell_type": "code",
   "execution_count": 27,
   "metadata": {},
   "outputs": [
    {
     "name": "stdout",
     "output_type": "stream",
     "text": [
      "Mean anthropometric measurements.png\n"
     ]
    }
   ],
   "source": [
    "! ls *.png"
   ]
  },
  {
   "cell_type": "markdown",
   "metadata": {},
   "source": [
    "<img src=\"Mean anthropometric measurements.png\"  />"
   ]
  },
  {
   "cell_type": "code",
   "execution_count": 36,
   "metadata": {},
   "outputs": [],
   "source": [
    "\n"
   ]
  },
  {
   "cell_type": "markdown",
   "metadata": {},
   "source": [
    "## About this notebook and the python libraries used in it"
   ]
  },
  {
   "cell_type": "code",
   "execution_count": null,
   "metadata": {},
   "outputs": [],
   "source": []
  },
  {
   "cell_type": "markdown",
   "metadata": {},
   "source": [
    "## - Choose a real-world phenomenon that can be measured and for which you could collect at least one-hundred data points across at least four different variables."
   ]
  },
  {
   "cell_type": "markdown",
   "metadata": {},
   "source": [
    "## Investigate the types of variables involved, their likely distributions, and their relationships with each other."
   ]
  },
  {
   "cell_type": "markdown",
   "metadata": {},
   "source": [
    "## Synthesise/simulate a data set as closely matching their properties as possible."
   ]
  },
  {
   "cell_type": "markdown",
   "metadata": {},
   "source": [
    "## Detail your research and implement the simulation in a Jupyter notebook – the data set itself can simply be displayed in an output cell within the notebook."
   ]
  },
  {
   "cell_type": "code",
   "execution_count": null,
   "metadata": {},
   "outputs": [],
   "source": []
  }
 ],
 "metadata": {
  "kernelspec": {
   "display_name": "Python 3",
   "language": "python",
   "name": "python3"
  },
  "language_info": {
   "codemirror_mode": {
    "name": "ipython",
    "version": 3
   },
   "file_extension": ".py",
   "mimetype": "text/x-python",
   "name": "python",
   "nbconvert_exporter": "python",
   "pygments_lexer": "ipython3",
   "version": "3.7.3"
  }
 },
 "nbformat": 4,
 "nbformat_minor": 2
}
